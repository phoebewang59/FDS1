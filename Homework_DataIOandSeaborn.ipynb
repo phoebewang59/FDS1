{
 "cells": [
  {
   "cell_type": "markdown",
   "id": "ba9e12e2",
   "metadata": {},
   "source": [
    "**1. Reading the dataset:**\n",
    "--"
   ]
  },
  {
   "cell_type": "code",
   "execution_count": 5,
   "id": "98b30e95",
   "metadata": {},
   "outputs": [],
   "source": [
    "import pandas as pd\n",
    "import seaborn as sns"
   ]
  },
  {
   "cell_type": "code",
   "execution_count": 6,
   "id": "d5ff8493",
   "metadata": {},
   "outputs": [],
   "source": [
    "Iris_data = pd.read_csv(\"./tutorials/datasets/Iris.csv\")"
   ]
  },
  {
   "cell_type": "code",
   "execution_count": 7,
   "id": "07772fde",
   "metadata": {},
   "outputs": [
    {
     "data": {
      "text/html": [
       "<div>\n",
       "<style scoped>\n",
       "    .dataframe tbody tr th:only-of-type {\n",
       "        vertical-align: middle;\n",
       "    }\n",
       "\n",
       "    .dataframe tbody tr th {\n",
       "        vertical-align: top;\n",
       "    }\n",
       "\n",
       "    .dataframe thead th {\n",
       "        text-align: right;\n",
       "    }\n",
       "</style>\n",
       "<table border=\"1\" class=\"dataframe\">\n",
       "  <thead>\n",
       "    <tr style=\"text-align: right;\">\n",
       "      <th></th>\n",
       "      <th>Id</th>\n",
       "      <th>SepalLengthCm</th>\n",
       "      <th>SepalWidthCm</th>\n",
       "      <th>PetalLengthCm</th>\n",
       "      <th>PetalWidthCm</th>\n",
       "      <th>Species</th>\n",
       "    </tr>\n",
       "  </thead>\n",
       "  <tbody>\n",
       "    <tr>\n",
       "      <th>0</th>\n",
       "      <td>1</td>\n",
       "      <td>5.1</td>\n",
       "      <td>3.5</td>\n",
       "      <td>1.4</td>\n",
       "      <td>0.2</td>\n",
       "      <td>Iris-setosa</td>\n",
       "    </tr>\n",
       "    <tr>\n",
       "      <th>1</th>\n",
       "      <td>2</td>\n",
       "      <td>4.9</td>\n",
       "      <td>3.0</td>\n",
       "      <td>1.4</td>\n",
       "      <td>0.2</td>\n",
       "      <td>Iris-setosa</td>\n",
       "    </tr>\n",
       "    <tr>\n",
       "      <th>2</th>\n",
       "      <td>3</td>\n",
       "      <td>4.7</td>\n",
       "      <td>3.2</td>\n",
       "      <td>1.3</td>\n",
       "      <td>0.2</td>\n",
       "      <td>Iris-setosa</td>\n",
       "    </tr>\n",
       "    <tr>\n",
       "      <th>3</th>\n",
       "      <td>4</td>\n",
       "      <td>4.6</td>\n",
       "      <td>3.1</td>\n",
       "      <td>1.5</td>\n",
       "      <td>0.2</td>\n",
       "      <td>Iris-setosa</td>\n",
       "    </tr>\n",
       "    <tr>\n",
       "      <th>4</th>\n",
       "      <td>5</td>\n",
       "      <td>5.0</td>\n",
       "      <td>3.6</td>\n",
       "      <td>1.4</td>\n",
       "      <td>0.2</td>\n",
       "      <td>Iris-setosa</td>\n",
       "    </tr>\n",
       "    <tr>\n",
       "      <th>...</th>\n",
       "      <td>...</td>\n",
       "      <td>...</td>\n",
       "      <td>...</td>\n",
       "      <td>...</td>\n",
       "      <td>...</td>\n",
       "      <td>...</td>\n",
       "    </tr>\n",
       "    <tr>\n",
       "      <th>145</th>\n",
       "      <td>146</td>\n",
       "      <td>6.7</td>\n",
       "      <td>3.0</td>\n",
       "      <td>5.2</td>\n",
       "      <td>2.3</td>\n",
       "      <td>Iris-virginica</td>\n",
       "    </tr>\n",
       "    <tr>\n",
       "      <th>146</th>\n",
       "      <td>147</td>\n",
       "      <td>6.3</td>\n",
       "      <td>2.5</td>\n",
       "      <td>5.0</td>\n",
       "      <td>1.9</td>\n",
       "      <td>Iris-virginica</td>\n",
       "    </tr>\n",
       "    <tr>\n",
       "      <th>147</th>\n",
       "      <td>148</td>\n",
       "      <td>6.5</td>\n",
       "      <td>3.0</td>\n",
       "      <td>5.2</td>\n",
       "      <td>2.0</td>\n",
       "      <td>Iris-virginica</td>\n",
       "    </tr>\n",
       "    <tr>\n",
       "      <th>148</th>\n",
       "      <td>149</td>\n",
       "      <td>6.2</td>\n",
       "      <td>3.4</td>\n",
       "      <td>5.4</td>\n",
       "      <td>2.3</td>\n",
       "      <td>Iris-virginica</td>\n",
       "    </tr>\n",
       "    <tr>\n",
       "      <th>149</th>\n",
       "      <td>150</td>\n",
       "      <td>5.9</td>\n",
       "      <td>3.0</td>\n",
       "      <td>5.1</td>\n",
       "      <td>1.8</td>\n",
       "      <td>Iris-virginica</td>\n",
       "    </tr>\n",
       "  </tbody>\n",
       "</table>\n",
       "<p>150 rows × 6 columns</p>\n",
       "</div>"
      ],
      "text/plain": [
       "      Id  SepalLengthCm  SepalWidthCm  PetalLengthCm  PetalWidthCm  \\\n",
       "0      1            5.1           3.5            1.4           0.2   \n",
       "1      2            4.9           3.0            1.4           0.2   \n",
       "2      3            4.7           3.2            1.3           0.2   \n",
       "3      4            4.6           3.1            1.5           0.2   \n",
       "4      5            5.0           3.6            1.4           0.2   \n",
       "..   ...            ...           ...            ...           ...   \n",
       "145  146            6.7           3.0            5.2           2.3   \n",
       "146  147            6.3           2.5            5.0           1.9   \n",
       "147  148            6.5           3.0            5.2           2.0   \n",
       "148  149            6.2           3.4            5.4           2.3   \n",
       "149  150            5.9           3.0            5.1           1.8   \n",
       "\n",
       "            Species  \n",
       "0       Iris-setosa  \n",
       "1       Iris-setosa  \n",
       "2       Iris-setosa  \n",
       "3       Iris-setosa  \n",
       "4       Iris-setosa  \n",
       "..              ...  \n",
       "145  Iris-virginica  \n",
       "146  Iris-virginica  \n",
       "147  Iris-virginica  \n",
       "148  Iris-virginica  \n",
       "149  Iris-virginica  \n",
       "\n",
       "[150 rows x 6 columns]"
      ]
     },
     "metadata": {},
     "output_type": "display_data"
    }
   ],
   "source": [
    "display(Iris_data)"
   ]
  },
  {
   "cell_type": "markdown",
   "id": "b36abe3d",
   "metadata": {},
   "source": [
    "**2. Data Summarization:**\n",
    "--"
   ]
  },
  {
   "cell_type": "code",
   "execution_count": 8,
   "id": "fedff33f",
   "metadata": {},
   "outputs": [],
   "source": [
    "Iris_data = Iris_data.drop(columns = ['Id']) #removes the Id column"
   ]
  },
  {
   "cell_type": "code",
   "execution_count": 13,
   "id": "d1318da0",
   "metadata": {},
   "outputs": [
    {
     "data": {
      "text/html": [
       "<div>\n",
       "<style scoped>\n",
       "    .dataframe tbody tr th:only-of-type {\n",
       "        vertical-align: middle;\n",
       "    }\n",
       "\n",
       "    .dataframe tbody tr th {\n",
       "        vertical-align: top;\n",
       "    }\n",
       "\n",
       "    .dataframe thead th {\n",
       "        text-align: right;\n",
       "    }\n",
       "</style>\n",
       "<table border=\"1\" class=\"dataframe\">\n",
       "  <thead>\n",
       "    <tr style=\"text-align: right;\">\n",
       "      <th></th>\n",
       "      <th>Unnamed: 0</th>\n",
       "      <th>SepalLengthCm</th>\n",
       "      <th>SepalWidthCm</th>\n",
       "      <th>PetalLengthCm</th>\n",
       "      <th>PetalWidthCm</th>\n",
       "    </tr>\n",
       "  </thead>\n",
       "  <tbody>\n",
       "    <tr>\n",
       "      <th>0</th>\n",
       "      <td>mean</td>\n",
       "      <td>5.843333</td>\n",
       "      <td>3.054000</td>\n",
       "      <td>3.758667</td>\n",
       "      <td>1.198667</td>\n",
       "    </tr>\n",
       "    <tr>\n",
       "      <th>1</th>\n",
       "      <td>50%</td>\n",
       "      <td>5.800000</td>\n",
       "      <td>3.000000</td>\n",
       "      <td>4.350000</td>\n",
       "      <td>1.300000</td>\n",
       "    </tr>\n",
       "    <tr>\n",
       "      <th>2</th>\n",
       "      <td>std</td>\n",
       "      <td>0.828066</td>\n",
       "      <td>0.433594</td>\n",
       "      <td>1.764420</td>\n",
       "      <td>0.763161</td>\n",
       "    </tr>\n",
       "  </tbody>\n",
       "</table>\n",
       "</div>"
      ],
      "text/plain": [
       "  Unnamed: 0  SepalLengthCm  SepalWidthCm  PetalLengthCm  PetalWidthCm\n",
       "0       mean       5.843333      3.054000       3.758667      1.198667\n",
       "1        50%       5.800000      3.000000       4.350000      1.300000\n",
       "2        std       0.828066      0.433594       1.764420      0.763161"
      ]
     },
     "metadata": {},
     "output_type": "display_data"
    }
   ],
   "source": [
    "Iris_summary = Iris_data.describe() #getting the summary statistics\n",
    "\n",
    "Iris_summary_DataFrame = pd.DataFrame(Iris_summary) #change the data into DataFrame\n",
    "\n",
    "iris_summary = Iris_summary_DataFrame.loc[['mean', '50%', 'std']] #selecting only mean, median, standard deviation\n",
    "\n",
    "iris_summary.to_csv(\"iris_summary.csv\") #new csv file\n",
    "\n",
    "iris_summary2 = pd.read_csv(\"iris_summary.csv\")\n",
    "\n",
    "display(iris_summary2) #checking the csv file"
   ]
  },
  {
   "cell_type": "markdown",
   "id": "9461fd3f",
   "metadata": {},
   "source": [
    "**3. Data Visualization:**\n",
    "--"
   ]
  },
  {
   "cell_type": "code",
   "execution_count": 16,
   "id": "0ca77aef",
   "metadata": {},
   "outputs": [],
   "source": [
    "#inputing the tidy version of Iris data\n",
    "tidyiris_data = pd.read_csv(\"./tutorials/datasets/tidyiris.csv\")"
   ]
  },
  {
   "cell_type": "code",
   "execution_count": 17,
   "id": "096532fa",
   "metadata": {},
   "outputs": [
    {
     "data": {
      "text/plain": [
       "<seaborn.axisgrid.PairGrid at 0x142b55690>"
      ]
     },
     "execution_count": 17,
     "metadata": {},
     "output_type": "execute_result"
    },
    {
     "data": {
      "image/png": "[encoded data removed]",
      "text/plain": [
       "<Figure size 312.736x250 with 2 Axes>"
      ]
     },
     "metadata": {},
     "output_type": "display_data"
    }
   ],
   "source": [
    "#create a pairplot\n",
    "sns.pairplot(data = tidyiris_data, hue = \"species\")\n"
   ]
  },
  {
   "cell_type": "code",
   "execution_count": 18,
   "id": "6e06bd25",
   "metadata": {},
   "outputs": [
    {
     "data": {
      "text/plain": [
       "<Axes: xlabel='measurement', ylabel='value'>"
      ]
     },
     "execution_count": 18,
     "metadata": {},
     "output_type": "execute_result"
    },
    {
     "data": {
      "image/png": "[encoded data removed]",
      "text/plain": [
       "<Figure size 640x480 with 1 Axes>"
      ]
     },
     "metadata": {},
     "output_type": "display_data"
    }
   ],
   "source": [
    "# boxplot\n",
    "sns.boxplot(y = \"value\", x = \"measurement\", data = tidyiris_data, hue = \"species\")"
   ]
  },
  {
   "cell_type": "markdown",
   "id": "52037d19",
   "metadata": {},
   "source": [
    "**4. Plotting Function:**\n",
    "--"
   ]
  },
  {
   "cell_type": "code",
   "execution_count": 19,
   "id": "b67b4c3a",
   "metadata": {},
   "outputs": [
    {
     "name": "stdout",
     "output_type": "stream",
     "text": [
      "Please enter the name of the file and specify the path to the data file. If you have questions, please enter 'support': support\n",
      "Using __doc__:\n",
      "\n",
      "            You have to enter the specific path to the data file in order \n",
      "            for the function to read the data. \n",
      "\n",
      "            For example, \n",
      "            I have a data called Iris inside the folder called datasets, \n",
      "            which is in another folder called tutorials. \n",
      "\n",
      "            Then I would enter: ./tutorials/datasets/Iris.csv\n",
      "            \n",
      "Please enter the name of the file and specify the path to the data file. If you have questions, please enter support: ./tutorials/datasets/tidyiris.csv\n",
      "Please enter 'box', 'strip', or 'violin' depending on which plot you would like to make. If you're confused on what these plots do, please enter 'help': help\n",
      "Using __doc__:\n",
      "\n",
      "            Box plot gives a quick visual summary of the variability\n",
      "            of the values in a box form.\n",
      "\n",
      "            Strip plot does similar things as box plot, except it \n",
      "            appears in dots and values are along one unique axis.\n",
      "\n",
      "            Violin plot is similar to box plot, except it compares \n",
      "            the groups in difference sizes.\n",
      "            \n",
      "Please enter 'box', 'strip', or 'violin' depending on which plot you would like to make. If you're confused on what these plots are, please enter 'help': box\n"
     ]
    },
    {
     "data": {
      "image/png": "[encoded data removed]",
      "text/plain": [
       "<Figure size 640x480 with 1 Axes>"
      ]
     },
     "metadata": {},
     "output_type": "display_data"
    }
   ],
   "source": [
    "#take an iris-like data fram as an input:\n",
    "data_input = input(\"Please enter the name of the file and specify the path to the data file. If you have questions, please enter 'support': \")\n",
    "\n",
    "while True:\n",
    "    if data_input == \"support\": #docstr for inputing data\n",
    "        def support():\n",
    "            '''\n",
    "            You have to enter the specific path to the data file in order \n",
    "            for the function to read the data. \n",
    "\n",
    "            For example, \n",
    "            I have a data called Iris inside the folder called datasets, \n",
    "            which is in another folder called tutorials. \n",
    "\n",
    "            Then I would enter: ./tutorials/datasets/Iris.csv\n",
    "            ''' \n",
    "        print(\"Using __doc__:\")\n",
    "        print(support.__doc__) #printing the docstr\n",
    "        data_input = input(\"Please enter the name of the file and specify the path to the data file. If you have questions, please enter support: \")\n",
    "    else:\n",
    "        user_data = pd.read_csv(data_input) #reading the data\n",
    "        break\n",
    "\n",
    "#give the user the option to pick a plot\n",
    "plot_option = input(\"Please enter 'box', 'strip', or 'violin' depending on which plot you would like to make. If you're confused on what these plots do, please enter 'help': \")\n",
    "\n",
    "while True:\n",
    "    if plot_option == \"box\":\n",
    "        sns.boxplot(data = user_data)\n",
    "        break\n",
    "    elif plot_option == \"strip\":\n",
    "        sns.catplot(data = user_data)\n",
    "        break\n",
    "    elif plot_option == \"help\": #docstr for what the plots do\n",
    "        def guide():\n",
    "            '''\n",
    "            Box plot gives a quick visual summary of the variability\n",
    "            of the values in a box form.\n",
    "\n",
    "            Strip plot does similar things as box plot, except it \n",
    "            appears in dots and values are along one unique axis.\n",
    "\n",
    "            Violin plot is similar to box plot, except it compares \n",
    "            the groups in difference sizes.\n",
    "            ''' \n",
    "        print(\"Using __doc__:\")\n",
    "        print(guide.__doc__)\n",
    "        plot_option = input(\"Please enter 'box', 'strip', or 'violin' depending on which plot you would like to make. If you're confused on what these plots are, please enter 'help': \")\n",
    "    else:\n",
    "        sns.catplot(data = user_data, kind = \"violin\")\n",
    "        break"
   ]
  }
 ],
 "metadata": {
  "kernelspec": {
   "display_name": "Python 3 (ipykernel)",
   "language": "python",
   "name": "python3"
  },
  "language_info": {
   "codemirror_mode": {
    "name": "ipython",
    "version": 3
   },
   "file_extension": ".py",
   "mimetype": "text/x-python",
   "name": "python",
   "nbconvert_exporter": "python",
   "pygments_lexer": "ipython3",
   "version": "3.11.4"
  }
 },
 "nbformat": 4,
 "nbformat_minor": 5
}
