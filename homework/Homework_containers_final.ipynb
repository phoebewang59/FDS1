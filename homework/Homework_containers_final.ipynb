{
 "cells": [
  {
   "cell_type": "markdown",
   "id": "dd15ea03",
   "metadata": {},
   "source": [
    "**1. Indexing strings**"
   ]
  },
  {
   "cell_type": "code",
   "execution_count": 8,
   "id": "57f53208",
   "metadata": {},
   "outputs": [
    {
     "name": "stdout",
     "output_type": "stream",
     "text": [
      "P N H <class 'str'>\n"
     ]
    }
   ],
   "source": [
    "s = \"PYTHON\"\n",
    "\n",
    "first_character = s[0]\n",
    "last_character = s[5]\n",
    "string_H = s[3]\n",
    "type_H = type(string_H)\n",
    "\n",
    "print(first_character, last_character, string_H, type_H)"
   ]
  },
  {
   "cell_type": "markdown",
   "id": "5bce453a",
   "metadata": {},
   "source": [
    "**2. Indexing Tuples**"
   ]
  },
  {
   "cell_type": "code",
   "execution_count": 45,
   "id": "d1ee2201",
   "metadata": {},
   "outputs": [
    {
     "name": "stdout",
     "output_type": "stream",
     "text": [
      "10 30\n",
      "(10, 20, 30.4, 40, 50, 60)\n"
     ]
    }
   ],
   "source": [
    "t = (10, 20, 30, 40, 50, 60)\n",
    "\n",
    "first_element = t[0]\n",
    "third_element = t[2]\n",
    "\n",
    "print(first_element, third_element)\n",
    "\n",
    "#set the 3rd element to 30.4\n",
    "t = (10, 20, 30.4, 40, 50, 60)\n",
    "print(t)"
   ]
  },
  {
   "cell_type": "markdown",
   "id": "b68ca66c",
   "metadata": {},
   "source": [
    "**3. Indexing Lists and Lists of Lists**"
   ]
  },
  {
   "cell_type": "code",
   "execution_count": 59,
   "id": "900c8b56",
   "metadata": {},
   "outputs": [
    {
     "name": "stdout",
     "output_type": "stream",
     "text": [
      "5 95 [55, 65, 75] 65\n"
     ]
    }
   ],
   "source": [
    "lst = [5, 15, 25, [35, 45, [55, 65, 75], 85], 95]\n",
    "\n",
    "#first element\n",
    "x = lst[0]\n",
    "\n",
    "#last element\n",
    "y = lst[4]\n",
    "\n",
    "sublist = lst[3][2]\n",
    "\n",
    "#the number 65\n",
    "num = sublist[1]\n",
    "\n",
    "print(x,y,sublist,num)"
   ]
  },
  {
   "cell_type": "markdown",
   "id": "640463f9",
   "metadata": {},
   "source": [
    "**4. Lists of Lists as Arrays**"
   ]
  },
  {
   "cell_type": "code",
   "execution_count": 60,
   "id": "250d7386",
   "metadata": {},
   "outputs": [
    {
     "name": "stdout",
     "output_type": "stream",
     "text": [
      "[4, 5, 6]\n",
      "[3, 6, 9]\n",
      "[[1, 2, 3], [4, 0, 6], [7, 8, 9]]\n"
     ]
    }
   ],
   "source": [
    "matrix = [\n",
    "    [1, 2, 3],\n",
    "    [4, 5, 6],\n",
    "    [7, 8, 9]\n",
    "]\n",
    "\n",
    "second_row = matrix[1]\n",
    "print(second_row)\n",
    "\n",
    "third_column = [matrix[0][2], matrix[1][2], matrix[2][2]]\n",
    "print(third_column)\n",
    "\n",
    "#changed center element to 0\n",
    "matrix[1][1] = 0\n",
    "print(matrix)"
   ]
  },
  {
   "cell_type": "markdown",
   "id": "55fb49a3",
   "metadata": {},
   "source": [
    "**5. Using Sets**"
   ]
  },
  {
   "cell_type": "code",
   "execution_count": 61,
   "id": "e06435e7",
   "metadata": {},
   "outputs": [
    {
     "name": "stdout",
     "output_type": "stream",
     "text": [
      "{1, 2, 3, 4, 5, 6, 7, 8}\n",
      "{4, 5}\n",
      "{1, 2, 3}\n",
      "{1, 2, 3, 6, 7, 8}\n"
     ]
    }
   ],
   "source": [
    "A = [1, 2, 2, 3, 4, 4, 5]\n",
    "B = [4, 5, 5, 6, 7, 7, 8]\n",
    "\n",
    "# sets from both lists\n",
    "set_A = set(A)\n",
    "set_B = set(B)\n",
    "\n",
    "union = set_A | set_B\n",
    "print(union)\n",
    "\n",
    "intersection = set_A & set_B\n",
    "print(intersection)\n",
    "\n",
    "# elements in A but not in B\n",
    "in_A_not_B = set_A - set_B\n",
    "print(in_A_not_B)\n",
    "\n",
    "# elements in A or B but not both\n",
    "not_both = set_A ^ set_B  \n",
    "print(not_both)"
   ]
  },
  {
   "cell_type": "markdown",
   "id": "1a999425",
   "metadata": {},
   "source": [
    "**6. Working with Dictionaries**"
   ]
  },
  {
   "cell_type": "code",
   "execution_count": 62,
   "id": "047e0844",
   "metadata": {},
   "outputs": [
    {
     "name": "stdout",
     "output_type": "stream",
     "text": [
      "50\n",
      "{'apple': 50, 'banana': 30, 'grape': 45, 'pear': 40}\n"
     ]
    }
   ],
   "source": [
    "stock = {\n",
    "    \"apple\": 50,\n",
    "    \"banana\": 25,\n",
    "    \"orange\": 30,\n",
    "    \"grape\": 45\n",
    "}\n",
    "\n",
    "#retrieved the stock of apple\n",
    "print(stock[\"apple\"]) \n",
    "\n",
    "#add new fruit\n",
    "stock[\"pear\"] = 40\n",
    "\n",
    "#updated the stock\n",
    "stock[\"banana\"] = 30\n",
    "\n",
    "#remove orange\n",
    "del stock[\"orange\"]\n",
    "\n",
    "print(stock)"
   ]
  }
 ],
 "metadata": {
  "kernelspec": {
   "display_name": "Python 3 (ipykernel)",
   "language": "python",
   "name": "python3"
  },
  "language_info": {
   "codemirror_mode": {
    "name": "ipython",
    "version": 3
   },
   "file_extension": ".py",
   "mimetype": "text/x-python",
   "name": "python",
   "nbconvert_exporter": "python",
   "pygments_lexer": "ipython3",
   "version": "3.11.4"
  }
 },
 "nbformat": 4,
 "nbformat_minor": 5
}
