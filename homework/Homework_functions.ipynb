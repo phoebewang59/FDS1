{
 "cells": [
  {
   "cell_type": "markdown",
   "id": "aea04e56",
   "metadata": {},
   "source": [
    "**Unit Conversions**\n",
    "--"
   ]
  },
  {
   "cell_type": "code",
   "execution_count": null,
   "id": "9cefd59b",
   "metadata": {},
   "outputs": [],
   "source": [
    "import unit_conversions #import the whole module"
   ]
  },
  {
   "cell_type": "code",
   "execution_count": 3,
   "id": "9dd91756",
   "metadata": {},
   "outputs": [
    {
     "name": "stdout",
     "output_type": "stream",
     "text": [
      "km: 4.83\n"
     ]
    }
   ],
   "source": [
    "# convert miles to kilometers\n",
    "km = unit_conversions.miles_to_km(3)\n",
    "print(f\"km: {km:.2f}\")"
   ]
  },
  {
   "cell_type": "code",
   "execution_count": 5,
   "id": "25da33ca",
   "metadata": {},
   "outputs": [
    {
     "name": "stdout",
     "output_type": "stream",
     "text": [
      "miles: 6.21\n"
     ]
    }
   ],
   "source": [
    "#convert kilometers to miles\n",
    "miles = unit_conversions.km_to_miles(10)\n",
    "print(f\"miles: {miles:.2f}\")"
   ]
  },
  {
   "cell_type": "code",
   "execution_count": 22,
   "id": "02684c39",
   "metadata": {},
   "outputs": [
    {
     "name": "stdout",
     "output_type": "stream",
     "text": [
      "fahrenheit: 96.80\n"
     ]
    }
   ],
   "source": [
    "#convert fahrenheit to celsius\n",
    "fahrenheit = unit_conversions.F_to_C(36)\n",
    "print(f\"fahrenheit: {fahrenheit:.2f}\")"
   ]
  },
  {
   "cell_type": "code",
   "execution_count": 20,
   "id": "c5e6dccf",
   "metadata": {},
   "outputs": [
    {
     "name": "stdout",
     "output_type": "stream",
     "text": [
      "celsius: 37.78\n"
     ]
    }
   ],
   "source": [
    "#convert celsius to fahrenheit\n",
    "celsius = unit_conversions.C_to_F(100)\n",
    "print(f\"celsius: {celsius:.2f}\")"
   ]
  },
  {
   "cell_type": "code",
   "execution_count": 3,
   "id": "340614ed",
   "metadata": {},
   "outputs": [
    {
     "name": "stdout",
     "output_type": "stream",
     "text": [
      "lb: 50.72\n"
     ]
    }
   ],
   "source": [
    "#convert kilogram to pound\n",
    "lb = unit_conversions.kilo_to_pound(23)\n",
    "print(f\"lb: {lb:.2f}\")"
   ]
  },
  {
   "cell_type": "code",
   "execution_count": 4,
   "id": "e61ee89c",
   "metadata": {},
   "outputs": [
    {
     "name": "stdout",
     "output_type": "stream",
     "text": [
      "kg: 6.80\n"
     ]
    }
   ],
   "source": [
    "#convert pound to kilogram\n",
    "kg = unit_conversions.pound_to_kilo(15)\n",
    "print(f\"kg: {kg:.2f}\")"
   ]
  },
  {
   "cell_type": "markdown",
   "id": "6346257b",
   "metadata": {},
   "source": [
    "**Namespaces**\n",
    "--"
   ]
  },
  {
   "cell_type": "code",
   "execution_count": 1,
   "id": "a93403bc",
   "metadata": {},
   "outputs": [
    {
     "data": {
      "text/plain": [
       "5"
      ]
     },
     "execution_count": 1,
     "metadata": {},
     "output_type": "execute_result"
    }
   ],
   "source": [
    "mylist = [1, 2, 3, 4, 5]\n",
    "len(mylist)"
   ]
  },
  {
   "cell_type": "code",
   "execution_count": 2,
   "id": "e0c5ed44",
   "metadata": {},
   "outputs": [],
   "source": [
    "import mylen"
   ]
  },
  {
   "cell_type": "code",
   "execution_count": 7,
   "id": "37edb968",
   "metadata": {},
   "outputs": [],
   "source": [
    "from mylen import len"
   ]
  },
  {
   "cell_type": "code",
   "execution_count": 9,
   "id": "bc7c4893",
   "metadata": {},
   "outputs": [
    {
     "data": {
      "text/plain": [
       "42"
      ]
     },
     "execution_count": 9,
     "metadata": {},
     "output_type": "execute_result"
    }
   ],
   "source": [
    "len(mylist)"
   ]
  },
  {
   "cell_type": "markdown",
   "id": "aff8fe92",
   "metadata": {},
   "source": [
    "**What happened? Why? What does this tell you about namespaces and the egalitarian nature of Python?**\n",
    "\n",
    "The outputs of the two len(mylist) calls were different because the first len(mylist) was a built-in namespace within python that calculates the length of the list, but I have defined len() to only return 42, so in the second len(mylist), it printed 42 instead of the length of the list. This tells me that the function of the namespace replaces each other as we define the namespace as something else in subsequent cells. Python always uses the latest definition and function of the namespaces."
   ]
  }
 ],
 "metadata": {
  "kernelspec": {
   "display_name": "Python 3 (ipykernel)",
   "language": "python",
   "name": "python3"
  },
  "language_info": {
   "codemirror_mode": {
    "name": "ipython",
    "version": 3
   },
   "file_extension": ".py",
   "mimetype": "text/x-python",
   "name": "python",
   "nbconvert_exporter": "python",
   "pygments_lexer": "ipython3",
   "version": "3.11.4"
  }
 },
 "nbformat": 4,
 "nbformat_minor": 5
}
