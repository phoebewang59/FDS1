{
 "cells": [
  {
   "cell_type": "code",
   "execution_count": 1,
   "id": "a364438b-3d40-4cfd-850d-1267f3e75e89",
   "metadata": {
    "tags": []
   },
   "outputs": [
    {
     "name": "stdin",
     "output_type": "stream",
     "text": [
      "Enter a set of numbers, and type 'done' when finished. 1\n",
      "Enter a set of numbers, and type 'done' when finished. 2\n",
      "Enter a set of numbers, and type 'done' when finished. e\n"
     ]
    },
    {
     "name": "stdout",
     "output_type": "stream",
     "text": [
      "That is not a number or the word 'done'! Please try again: \n"
     ]
    },
    {
     "name": "stdin",
     "output_type": "stream",
     "text": [
      "Enter a set of numbers, and type 'done' when finished. 5\n",
      "Enter a set of numbers, and type 'done' when finished. 6\n",
      "Enter a set of numbers, and type 'done' when finished. 40\n",
      "Enter a set of numbers, and type 'done' when finished. done\n",
      "Please choose one of the following computations by entering the corresponding number:\n",
      "1.mean\n",
      "2.variance\n",
      "3.standard deviation\n",
      "4.standard error\n",
      "5.z-score\n",
      "6.summary of all statistics\n",
      "7.enter a new set of numbers\n",
      "8.terminate the calculator\n",
      "entered:  1\n"
     ]
    },
    {
     "name": "stdout",
     "output_type": "stream",
     "text": [
      "Mean: 10.80\n"
     ]
    },
    {
     "name": "stdin",
     "output_type": "stream",
     "text": [
      "Please choose one of the following computations by entering the corresponding number:\n",
      "1.mean\n",
      "2.variance\n",
      "3.standard deviation\n",
      "4.standard error\n",
      "5.z-score\n",
      "6.summary of all statistics\n",
      "7.enter a new set of numbers\n",
      "8.terminate the calculator\n",
      "entered:  2\n"
     ]
    },
    {
     "name": "stdout",
     "output_type": "stream",
     "text": [
      "Variance: 270.70\n"
     ]
    },
    {
     "name": "stdin",
     "output_type": "stream",
     "text": [
      "Please choose one of the following computations by entering the corresponding number:\n",
      "1.mean\n",
      "2.variance\n",
      "3.standard deviation\n",
      "4.standard error\n",
      "5.z-score\n",
      "6.summary of all statistics\n",
      "7.enter a new set of numbers\n",
      "8.terminate the calculator\n",
      "entered:  3\n"
     ]
    },
    {
     "name": "stdout",
     "output_type": "stream",
     "text": [
      "Standard Deviation: 16.45\n"
     ]
    },
    {
     "name": "stdin",
     "output_type": "stream",
     "text": [
      "Please choose one of the following computations by entering the corresponding number:\n",
      "1.mean\n",
      "2.variance\n",
      "3.standard deviation\n",
      "4.standard error\n",
      "5.z-score\n",
      "6.summary of all statistics\n",
      "7.enter a new set of numbers\n",
      "8.terminate the calculator\n",
      "entered:  4\n"
     ]
    },
    {
     "name": "stdout",
     "output_type": "stream",
     "text": [
      "Standard error: 7.36\n"
     ]
    },
    {
     "name": "stdin",
     "output_type": "stream",
     "text": [
      "Please choose one of the following computations by entering the corresponding number:\n",
      "1.mean\n",
      "2.variance\n",
      "3.standard deviation\n",
      "4.standard error\n",
      "5.z-score\n",
      "6.summary of all statistics\n",
      "7.enter a new set of numbers\n",
      "8.terminate the calculator\n",
      "entered:  5\n",
      "Please enter a number:  13\n"
     ]
    },
    {
     "name": "stdout",
     "output_type": "stream",
     "text": [
      "The z-score for 13 is 0.13.\n"
     ]
    },
    {
     "name": "stdin",
     "output_type": "stream",
     "text": [
      "Please choose one of the following computations by entering the corresponding number:\n",
      "1.mean\n",
      "2.variance\n",
      "3.standard deviation\n",
      "4.standard error\n",
      "5.z-score\n",
      "6.summary of all statistics\n",
      "7.enter a new set of numbers\n",
      "8.terminate the calculator\n",
      "entered:  6\n"
     ]
    },
    {
     "name": "stdout",
     "output_type": "stream",
     "text": [
      "Mean: 10.80\n",
      "Variance: 270.70\n",
      "Standard deviation: 16.45\n",
      "Standard error: 7.36\n"
     ]
    },
    {
     "name": "stdin",
     "output_type": "stream",
     "text": [
      "Please choose one of the following computations by entering the corresponding number:\n",
      "1.mean\n",
      "2.variance\n",
      "3.standard deviation\n",
      "4.standard error\n",
      "5.z-score\n",
      "6.summary of all statistics\n",
      "7.enter a new set of numbers\n",
      "8.terminate the calculator\n",
      "entered:  7\n",
      "Enter a set of numbers, and type 'done' when finished. 1\n",
      "Enter a set of numbers, and type 'done' when finished. 2\n",
      "Enter a set of numbers, and type 'done' when finished. 3\n",
      "Enter a set of numbers, and type 'done' when finished. 4\n",
      "Enter a set of numbers, and type 'done' when finished. r\n"
     ]
    },
    {
     "name": "stdout",
     "output_type": "stream",
     "text": [
      "That is not a number or the word 'done'! Please try again: \n"
     ]
    },
    {
     "name": "stdin",
     "output_type": "stream",
     "text": [
      "Enter a set of numbers, and type 'done' when finished. done\n",
      "Please choose one of the following computations by entering the corresponding number:\n",
      "1.mean\n",
      "2.variance\n",
      "3.standard deviation\n",
      "4.standard error\n",
      "5.z-score\n",
      "6.summary of all statistics\n",
      "7.enter a new set of numbers\n",
      "8.terminate the calculator\n",
      " 9\n"
     ]
    },
    {
     "name": "stdout",
     "output_type": "stream",
     "text": [
      "Sorry, that is not an option. Please enter a number that corresponds to a computation.\n"
     ]
    },
    {
     "name": "stdin",
     "output_type": "stream",
     "text": [
      "Please choose one of the following computations by entering the corresponding number:\n",
      "1.mean\n",
      "2.variance\n",
      "3.standard deviation\n",
      "4.standard error\n",
      "5.z-score\n",
      "6.summary of all statistics\n",
      "7.enter a new set of numbers\n",
      "8.terminate the calculator\n",
      " qw\n"
     ]
    },
    {
     "name": "stdout",
     "output_type": "stream",
     "text": [
      "Sorry, that is not an option. Please enter a number that corresponds to a computation.\n"
     ]
    },
    {
     "name": "stdin",
     "output_type": "stream",
     "text": [
      "Please choose one of the following computations by entering the corresponding number:\n",
      "1.mean\n",
      "2.variance\n",
      "3.standard deviation\n",
      "4.standard error\n",
      "5.z-score\n",
      "6.summary of all statistics\n",
      "7.enter a new set of numbers\n",
      "8.terminate the calculator\n",
      " 8\n"
     ]
    },
    {
     "name": "stdout",
     "output_type": "stream",
     "text": [
      "The statistic calculator has terminated. Please re-run the calculator to start again.\n"
     ]
    }
   ],
   "source": [
    "lst_of_input = []\n",
    "user_input = input(\"Enter a set of numbers, and type 'done' when finished.\") #allow users to input a series of numbers\n",
    "\n",
    "while True:\n",
    "    if user_input.isnumeric(): #check if the input in the string is number or not\n",
    "        lst_of_input.append(int(user_input))  #appends the numbers to a list\n",
    "        user_input = input(\"Enter a set of numbers, and type 'done' when finished.\")\n",
    "    elif user_input == \"done\":\n",
    "        break\n",
    "    else:\n",
    "        print(\"That is not a number or the word 'done'! Please try again: \")\n",
    "        user_input = input(\"Enter a set of numbers, and type 'done' when finished.\")\n",
    "\n",
    "#choosing a computation \n",
    "option = input(\"Please choose one of the following computations by entering the corresponding number:\\n1.mean\\n2.variance\\n3.standard deviation\\n4.standard error\\n5.z-score\\n6.summary of all statistics\\n7.enter a new set of numbers\\n8.terminate the calculator\\nentered: \")\n",
    "\n",
    "#operating the computations\n",
    "while True:\n",
    "    if (option.isnumeric()) and (option == \"1\"): # is a number and is 1, calculates the mean\n",
    "        int(option)\n",
    "        from PW_stats_module import mean #importing only the mean function\n",
    "        ave = mean(lst_of_input) #defining the mean (the mean is a float)\n",
    "        print(f\"Mean: {ave:.2f}\") #.2f returns the mean with only two decimal places\n",
    "        option = input(\"Please choose one of the following computations by entering the corresponding number:\\n1.mean\\n2.variance\\n3.standard deviation\\n4.standard error\\n5.z-score\\n6.summary of all statistics\\n7.enter a new set of numbers\\n8.terminate the calculator\\nentered: \")\n",
    "    elif (option.isnumeric()) and (option == \"2\"): #variance\n",
    "        int(option)\n",
    "        from PW_stats_module import variance\n",
    "        var = variance(lst_of_input)\n",
    "        print(f\"Variance: {var:.2f}\")\n",
    "        option = input(\"Please choose one of the following computations by entering the corresponding number:\\n1.mean\\n2.variance\\n3.standard deviation\\n4.standard error\\n5.z-score\\n6.summary of all statistics\\n7.enter a new set of numbers\\n8.terminate the calculator\\nentered: \")\n",
    "    elif (option.isnumeric()) and (option == \"3\"): #standard deviation\n",
    "        int(option)\n",
    "        from PW_stats_module import stdv\n",
    "        sd = stdv(lst_of_input)\n",
    "        print(f\"Standard Deviation: {sd:.2f}\")\n",
    "        option = input(\"Please choose one of the following computations by entering the corresponding number:\\n1.mean\\n2.variance\\n3.standard deviation\\n4.standard error\\n5.z-score\\n6.summary of all statistics\\n7.enter a new set of numbers\\n8.terminate the calculator\\nentered: \")\n",
    "    elif (option.isnumeric()) and (option == \"4\"): #standard error\n",
    "        int(option)\n",
    "        from PW_stats_module import stde\n",
    "        se = stde(lst_of_input)\n",
    "        print(f\"Standard error: {se:.2f}\")\n",
    "        option = input(\"Please choose one of the following computations by entering the corresponding number:\\n1.mean\\n2.variance\\n3.standard deviation\\n4.standard error\\n5.z-score\\n6.summary of all statistics\\n7.enter a new set of numbers\\n8.terminate the calculator\\nentered: \")\n",
    "    elif (option.isnumeric()) and (option == \"5\"): #z-score\n",
    "        int(option)\n",
    "        x = int(input(\"Please enter a number: \")) #new observation\n",
    "        from PW_stats_module import z_score\n",
    "        z = z_score(lst_of_input, x)\n",
    "        print(f\"The z-score for {x} is {z:.2f}.\")\n",
    "        option = input(\"Please choose one of the following computations by entering the corresponding number:\\n1.mean\\n2.variance\\n3.standard deviation\\n4.standard error\\n5.z-score\\n6.summary of all statistics\\n7.enter a new set of numbers\\n8.terminate the calculator\\nentered: \")\n",
    "    elif (option.isnumeric()) and (option == \"6\"): #summary of statistics\n",
    "        int(option)\n",
    "        import PW_stats_module\n",
    "        ave = PW_stats_module.mean(lst_of_input)\n",
    "        var = PW_stats_module.variance(lst_of_input)\n",
    "        sd = PW_stats_module.stdv(lst_of_input)\n",
    "        se = PW_stats_module.stde(lst_of_input)\n",
    "        print(f\"Mean: {ave:.2f}\\nVariance: {var:.2f}\\nStandard deviation: {sd:.2f}\\nStandard error: {se:.2f}\")\n",
    "        option = input(\"Please choose one of the following computations by entering the corresponding number:\\n1.mean\\n2.variance\\n3.standard deviation\\n4.standard error\\n5.z-score\\n6.summary of all statistics\\n7.enter a new set of numbers\\n8.terminate the calculator\\nentered: \")\n",
    "    elif (option.isnumeric()) and (option == \"7\"): #enter new set of numbers\n",
    "        int(option)\n",
    "        lst_of_input = []\n",
    "        user_input = input(\"Enter a set of numbers, and type 'done' when finished.\")\n",
    "        while True:\n",
    "            if user_input.isnumeric(): #check if the input in the string is number or not\n",
    "                lst_of_input.append(int(user_input))  #appends the numbers to a list\n",
    "                user_input = input(\"Enter a set of numbers, and type 'done' when finished.\")\n",
    "            elif user_input == \"done\":\n",
    "                break\n",
    "            else:\n",
    "                print(\"That is not a number or the word 'done'! Please try again: \")\n",
    "                user_input = input(\"Enter a set of numbers, and type 'done' when finished.\")\n",
    "        option = input(\"Please choose one of the following computations by entering the corresponding number:\\n1.mean\\n2.variance\\n3.standard deviation\\n4.standard error\\n5.z-score\\n6.summary of all statistics\\n7.enter a new set of numbers\\n8.terminate the calculator\\n\")\n",
    "    elif (option.isnumeric()) and (option == \"8\"): #stops the calculator\n",
    "        int(option)\n",
    "        print(\"The statistic calculator has terminated. Please re-run the calculator to start again.\")\n",
    "        break\n",
    "    else: # is not a number or is not a number between 1-8\n",
    "        print(\"Sorry, that is not an option. Please enter a number that corresponds to a computation.\")\n",
    "        option = input(\"Please choose one of the following computations by entering the corresponding number:\\n1.mean\\n2.variance\\n3.standard deviation\\n4.standard error\\n5.z-score\\n6.summary of all statistics\\n7.enter a new set of numbers\\n8.terminate the calculator\\n\")\n"
   ]
  }
 ],
 "metadata": {
  "kernelspec": {
   "display_name": "Python 3 (ipykernel)",
   "language": "python",
   "name": "python3"
  },
  "language_info": {
   "codemirror_mode": {
    "name": "ipython",
    "version": 3
   },
   "file_extension": ".py",
   "mimetype": "text/x-python",
   "name": "python",
   "nbconvert_exporter": "python",
   "pygments_lexer": "ipython3",
   "version": "3.11.4"
  }
 },
 "nbformat": 4,
 "nbformat_minor": 5
}
