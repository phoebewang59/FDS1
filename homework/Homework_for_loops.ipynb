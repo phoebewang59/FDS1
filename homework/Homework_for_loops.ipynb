{
 "cells": [
  {
   "cell_type": "markdown",
   "id": "4b433111",
   "metadata": {},
   "source": [
    "**Part 1: for loops with lists and range( )**\n",
    "--"
   ]
  },
  {
   "cell_type": "markdown",
   "id": "67217785",
   "metadata": {},
   "source": [
    "**1. Lists**"
   ]
  },
  {
   "cell_type": "code",
   "execution_count": 3,
   "id": "3e98acc3",
   "metadata": {},
   "outputs": [
    {
     "name": "stdout",
     "output_type": "stream",
     "text": [
      "4\n",
      "8\n",
      "12\n",
      "16\n"
     ]
    }
   ],
   "source": [
    "# a) make a list of numbers and multiply by 2\n",
    "\n",
    "nums = [2, 4, 6, 8]\n",
    "for num in nums :\n",
    "    double = num*2\n",
    "    print(double)"
   ]
  },
  {
   "cell_type": "code",
   "execution_count": 6,
   "id": "e8ddb602",
   "metadata": {},
   "outputs": [
    {
     "name": "stdout",
     "output_type": "stream",
     "text": [
      "['grape', 'kiwi', 'pear', 'apple']\n"
     ]
    }
   ],
   "source": [
    "# b) print reverse order without reversing list itself\n",
    "\n",
    "fruits = [\"apple\", \"pear\", \"kiwi\", \"grape\"]\n",
    "\n",
    "flip = fruits[::-1]\n",
    "\n",
    "print(flip)"
   ]
  },
  {
   "cell_type": "markdown",
   "id": "8c96d8a1",
   "metadata": {},
   "source": [
    "**2. using the range( ) function**"
   ]
  },
  {
   "cell_type": "code",
   "execution_count": 19,
   "id": "ea15313f",
   "metadata": {},
   "outputs": [
    {
     "name": "stdout",
     "output_type": "stream",
     "text": [
      "0\n",
      "1\n",
      "2\n",
      "3\n",
      "4\n",
      "5\n",
      "6\n",
      "7\n",
      "8\n",
      "9\n"
     ]
    }
   ],
   "source": [
    "# a) print 0 to 9\n",
    "\n",
    "for i in range(0,10):\n",
    "    print(i)"
   ]
  },
  {
   "cell_type": "code",
   "execution_count": 7,
   "id": "11c586d8",
   "metadata": {},
   "outputs": [
    {
     "name": "stdout",
     "output_type": "stream",
     "text": [
      "5\n",
      "6\n",
      "7\n",
      "8\n",
      "9\n",
      "10\n",
      "11\n",
      "12\n",
      "13\n",
      "14\n",
      "15\n"
     ]
    }
   ],
   "source": [
    "# b) print 5 to 15\n",
    "\n",
    "for i in range(5,16) :\n",
    "    print(i)"
   ]
  },
  {
   "cell_type": "code",
   "execution_count": 21,
   "id": "7b554374",
   "metadata": {},
   "outputs": [
    {
     "name": "stdout",
     "output_type": "stream",
     "text": [
      "2\n",
      "4\n",
      "6\n",
      "8\n",
      "10\n",
      "12\n",
      "14\n",
      "16\n",
      "18\n",
      "20\n"
     ]
    }
   ],
   "source": [
    "# c) first ten even numbers\n",
    "\n",
    "for i in range(2, 21, 2):\n",
    "    print(i)"
   ]
  },
  {
   "cell_type": "markdown",
   "id": "51bf17a5",
   "metadata": {},
   "source": [
    "**Part 2: Dictionaries and Loops**\n",
    "--"
   ]
  },
  {
   "cell_type": "code",
   "execution_count": 31,
   "id": "d8ac8b86",
   "metadata": {},
   "outputs": [
    {
     "name": "stdout",
     "output_type": "stream",
     "text": [
      "Alex 's favorite color is Blue .\n",
      "Jordan 's favorite color is Green .\n",
      "Taylor 's favorite color is Red .\n"
     ]
    }
   ],
   "source": [
    "# a) create dictionary and print out names and favorite color\n",
    "\n",
    "students = {\"Alex\": \"Blue\", \"Jordan\": \"Green\", \"Taylor\": \"Red\"}\n",
    "\n",
    "for name in students :\n",
    "    print(name,\"'s favorite color is\", students[name],\".\")"
   ]
  },
  {
   "cell_type": "code",
   "execution_count": 48,
   "id": "96c1ec25",
   "metadata": {},
   "outputs": [
    {
     "name": "stdout",
     "output_type": "stream",
     "text": [
      "apple now has 10 .\n",
      "banana now has 6 .\n",
      "cherries now has 20 .\n"
     ]
    }
   ],
   "source": [
    "# b) double the quantity and print updated quantites\n",
    "\n",
    "products = {\"apple\": 5, \"banana\": 3, \"cherries\": 10}\n",
    "\n",
    "for product in products :\n",
    "    twice = products[product]*2\n",
    "    print(product,\"now has\",twice,\".\")"
   ]
  },
  {
   "cell_type": "markdown",
   "id": "674ea4b6",
   "metadata": {},
   "source": [
    "**Part 3: Storing Results of a For Loop in a New List and List Comprehensions**\n",
    "--"
   ]
  },
  {
   "cell_type": "markdown",
   "id": "57c6a67c",
   "metadata": {},
   "source": [
    "**1. not using list comprehension**"
   ]
  },
  {
   "cell_type": "code",
   "execution_count": 40,
   "id": "957e096d",
   "metadata": {},
   "outputs": [
    {
     "name": "stdout",
     "output_type": "stream",
     "text": [
      "[2, 6, 10, 14]\n"
     ]
    }
   ],
   "source": [
    "# a) creates new list with each number *2\n",
    "new = []\n",
    "original = [1, 3, 5, 7]\n",
    "for i in original :\n",
    "    new.append(i*2)\n",
    "print(new)"
   ]
  },
  {
   "cell_type": "code",
   "execution_count": 8,
   "id": "65f27ab7",
   "metadata": {},
   "outputs": [
    {
     "name": "stdout",
     "output_type": "stream",
     "text": [
      "['A', 'B', 'C', 'D']\n"
     ]
    }
   ],
   "source": [
    "# b) create a new list that contains the first letter of each word\n",
    "letters = []\n",
    "vocab = [\"Apple\", \"Banana\", \"Cherry\", \"Date\"]\n",
    "for i in range(4) :\n",
    "    for j in range(1) :\n",
    "        individual = vocab[i][j]\n",
    "        letters.append(individual)\n",
    "    \n",
    "print(letters)"
   ]
  },
  {
   "cell_type": "markdown",
   "id": "13845a7b",
   "metadata": {},
   "source": [
    "**2. using list comprehension**"
   ]
  },
  {
   "cell_type": "code",
   "execution_count": 9,
   "id": "37cc834b",
   "metadata": {},
   "outputs": [
    {
     "name": "stdout",
     "output_type": "stream",
     "text": [
      "[1.0, 1.4142135623730951, 1.7320508075688772, 2.0, 2.23606797749979, 2.449489742783178, 2.6457513110645907, 2.8284271247461903, 3.0, 3.1622776601683795]\n"
     ]
    }
   ],
   "source": [
    "# c) compute and save the square roots of a list of numbers from 1 to 10\n",
    "\n",
    "num = [1, 2, 3, 4, 5, 6, 7, 8, 9, 10]\n",
    "\n",
    "root = [i**0.5 for i in num]\n",
    "\n",
    "print(root)"
   ]
  },
  {
   "cell_type": "code",
   "execution_count": 2,
   "id": "c4f1ac05",
   "metadata": {},
   "outputs": [
    {
     "name": "stdout",
     "output_type": "stream",
     "text": [
      "['e', 'r', 'i', 'e']\n"
     ]
    }
   ],
   "source": [
    "# d) create a new list containing the last letter of each word\n",
    "\n",
    "word = [\"apple\", \"pear\", \"kiwi\", \"grape\"]\n",
    "\n",
    "last = [i[-1] for i in word]\n",
    "\n",
    "print(last)"
   ]
  },
  {
   "cell_type": "markdown",
   "id": "e26d44e0",
   "metadata": {},
   "source": [
    "**Part 4. nested loops**\n",
    "--"
   ]
  },
  {
   "cell_type": "code",
   "execution_count": 10,
   "id": "a07932f8",
   "metadata": {},
   "outputs": [
    {
     "name": "stdout",
     "output_type": "stream",
     "text": [
      "[1, 2, 3, 4, 5, 6, 7, 8, 9, 10, 11, 12, 13, 14, 15, 16, 17, 18, 19, 20, 21, 22, 23, 42]\n"
     ]
    }
   ],
   "source": [
    "# a) flatten list\n",
    "\n",
    "deep_list = [[[1, 2, 3, 4], [5, 6, 7, 8]],\n",
    "            [[9, 10, 11, 12], [13, 14, 15, 16]],\n",
    "            [[17, 18, 19, 20], [21, 22, 23, 42]]]\n",
    "\n",
    "ints = []\n",
    "for i in range (3) :\n",
    "    for j in range(2) :\n",
    "        for k in range (4) :\n",
    "            this_num = deep_list[i][j][k]\n",
    "            ints.append(this_num)\n",
    "        \n",
    "print(ints)"
   ]
  },
  {
   "cell_type": "code",
   "execution_count": 11,
   "id": "76e17a43",
   "metadata": {},
   "outputs": [
    {
     "name": "stdout",
     "output_type": "stream",
     "text": [
      "['able', 'was', 'I', 'ere', 'I', 'saw', 'elba']\n"
     ]
    }
   ],
   "source": [
    "# b) reverses order of the strings and the order of the letters\n",
    "\n",
    "myStrLst = [\"able\", \"was\", \"I\", \"ere\", \"I\", \"saw\", \"elba\"]\n",
    "\n",
    "for word in myStrLst : \n",
    "    ind_rev = myStrLst[::-1] #reverse orders of letters\n",
    "    \n",
    "rev = ind_rev[::-1]\n",
    "\n",
    "print(rev)"
   ]
  }
 ],
 "metadata": {
  "kernelspec": {
   "display_name": "Python 3 (ipykernel)",
   "language": "python",
   "name": "python3"
  },
  "language_info": {
   "codemirror_mode": {
    "name": "ipython",
    "version": 3
   },
   "file_extension": ".py",
   "mimetype": "text/x-python",
   "name": "python",
   "nbconvert_exporter": "python",
   "pygments_lexer": "ipython3",
   "version": "3.11.4"
  }
 },
 "nbformat": 4,
 "nbformat_minor": 5
}
