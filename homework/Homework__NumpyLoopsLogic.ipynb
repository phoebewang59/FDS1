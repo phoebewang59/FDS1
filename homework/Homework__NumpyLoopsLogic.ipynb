{
 "cells": [
  {
   "cell_type": "markdown",
   "id": "4eff53b6",
   "metadata": {},
   "source": [
    "**Problem 1: Basic Array Element Comparisons**\n",
    "--"
   ]
  },
  {
   "cell_type": "code",
   "execution_count": 183,
   "id": "11ef5da7",
   "metadata": {},
   "outputs": [],
   "source": [
    "import numpy as np\n",
    "arr = np.array([2, 5, 8, 10, 3, 6, 7])"
   ]
  },
  {
   "cell_type": "code",
   "execution_count": 184,
   "id": "6e6b36dd",
   "metadata": {},
   "outputs": [
    {
     "name": "stdout",
     "output_type": "stream",
     "text": [
      "Elements that are even numbers: [2, 8, 10, 6].\n"
     ]
    }
   ],
   "source": [
    "#check and print which elements of the array are even\n",
    "\n",
    "evens = []\n",
    "\n",
    "for i in range(len(arr)):\n",
    "    if arr[i] % 2 == 0:\n",
    "        evens.append(arr[i])\n",
    "print(f\"Elements that are even numbers: {evens}.\")"
   ]
  },
  {
   "cell_type": "markdown",
   "id": "2b7750a6",
   "metadata": {},
   "source": [
    "**Problem 2: Find Prime Array Elements**\n",
    "--"
   ]
  },
  {
   "cell_type": "markdown",
   "id": "8df0e806",
   "metadata": {},
   "source": [
    "Given a 1D NumPy integer array of arbitrary length, write a Python script that checks to see which elements are prime numbers, and builds a corresponding True/False array."
   ]
  },
  {
   "cell_type": "code",
   "execution_count": 220,
   "id": "315b9486",
   "metadata": {},
   "outputs": [],
   "source": [
    "def is_prime(num):                                  # check if number is a prime number\n",
    "    if num <= 1:\n",
    "        return False\n",
    "    if num == 2:\n",
    "        return True\n",
    "    for i in range(2, num):\n",
    "        if (num % i) == 0:\n",
    "            return False\n",
    "        else:\n",
    "            return True\n",
    "\n",
    "def check_prime(array):                             # find prime numbers in an array\n",
    "    nums_list = np.zeros(array.shape, dtype = bool) #create an empty array that default contains False\n",
    "    for i in range(len(array)):\n",
    "        if is_prime(array[i]) == True:\n",
    "            nums_list[i] = True\n",
    "    return print(nums_list)"
   ]
  },
  {
   "cell_type": "code",
   "execution_count": 221,
   "id": "c02bd424",
   "metadata": {},
   "outputs": [
    {
     "name": "stdout",
     "output_type": "stream",
     "text": [
      "[ True  True  True False  True  True False  True]\n"
     ]
    }
   ],
   "source": [
    "test_array = np.array([2, 3, 5, 6, 7, 11, 12, 13])\n",
    "check_prime(test_array)"
   ]
  },
  {
   "cell_type": "markdown",
   "id": "becdf488",
   "metadata": {},
   "source": [
    "**Problem 3: Nested For Loops with 2D Arrays**\n",
    "--"
   ]
  },
  {
   "cell_type": "markdown",
   "id": "d7e16f02",
   "metadata": {},
   "source": [
    "1. The Fibonacci sequence starting with 0 runs across the first row.\n",
    "2. Fibonacci sequences run down each column starting with the number in the first row."
   ]
  },
  {
   "cell_type": "code",
   "execution_count": 222,
   "id": "88e31e46",
   "metadata": {},
   "outputs": [],
   "source": [
    "import numpy as np\n",
    "n = 10\n",
    "a = np.zeros((n,n), dtype=int)"
   ]
  },
  {
   "cell_type": "code",
   "execution_count": 223,
   "id": "1ee399d7",
   "metadata": {},
   "outputs": [
    {
     "name": "stdout",
     "output_type": "stream",
     "text": [
      "[[   0    1    1    2    3    5    8   13   21   34]\n",
      " [   1    1    2    3    5    8   13   21   34   55]\n",
      " [   1    2    3    5    8   13   21   34   55   89]\n",
      " [   2    3    5    8   13   21   34   55   89  144]\n",
      " [   3    5    8   13   21   34   55   89  144  233]\n",
      " [   5    8   13   21   34   55   89  144  233  377]\n",
      " [   8   13   21   34   55   89  144  233  377  610]\n",
      " [  13   21   34   55   89  144  233  377  610  987]\n",
      " [  21   34   55   89  144  233  377  610  987 1597]\n",
      " [  34   55   89  144  233  377  610  987 1597 2584]]\n"
     ]
    }
   ],
   "source": [
    "for i in range(n):\n",
    "    if i == 0:                                  # first row\n",
    "        for j in range(n):\n",
    "            if j == 0:\n",
    "                a[i,j] = 0\n",
    "            elif j == 1:\n",
    "                a[i,j] = 1\n",
    "            else:\n",
    "                a[i,j] = a[i,j-1] + (a[i, j-2])\n",
    "    elif i == 1:                                # second row\n",
    "        for j in range(n):\n",
    "            if j == 0:\n",
    "                a[i,j] = 1\n",
    "            elif j == 1:\n",
    "                a[i,j] = 1\n",
    "            else:\n",
    "                a[i,j] = a[i,j-1] + (a[i, j-2])\n",
    "    else:                                       # third row and on\n",
    "        for j in range(n):\n",
    "            a[i,j] = a[i-1,j] + a[i-2,j]\n",
    "\n",
    "print(a)"
   ]
  },
  {
   "cell_type": "markdown",
   "id": "0bae144a",
   "metadata": {},
   "source": [
    "**Problem 4: While Loop Within a For Loop**\n",
    "--"
   ]
  },
  {
   "cell_type": "markdown",
   "id": "3b79e65a",
   "metadata": {},
   "source": [
    "Each array, starts at the first element and sums consecutive elements using a while loop until the sum is greater\n",
    "than or equal to 50. The script should print the sum and the index where it stopped for each array."
   ]
  },
  {
   "cell_type": "code",
   "execution_count": 224,
   "id": "df3ac652",
   "metadata": {},
   "outputs": [],
   "source": [
    "arrays_list = [np.array([10, 20, 30, 40, 50]), np.array([5, 15, 25]), np.array([1, 2, 3, 4, 5, 6, 7, 8, 9])]"
   ]
  },
  {
   "cell_type": "code",
   "execution_count": 230,
   "id": "64d87599",
   "metadata": {},
   "outputs": [
    {
     "name": "stdout",
     "output_type": "stream",
     "text": [
      "Array 1: Sum = 60, Index stopped = 3\n",
      "Array 2: Sum = 45, Index stopped = 3\n",
      "Array 3: Sum = 45, Index stopped = 9\n"
     ]
    }
   ],
   "source": [
    "for i in range(len(arrays_list)):                            # runs for the # of arrays in list\n",
    "    for j in range(len(arrays_list[i])):                     # range is # of elements in each array\n",
    "        index = 0\n",
    "        total = 0\n",
    "        while (index < len(arrays_list[i])) and total < 50:  # index < # of elements in each array\n",
    "            total += arrays_list[i][index]\n",
    "            index += 1                                       \n",
    "    print(f\"Array {i + 1}: Sum = {total}, Index stopped = {index}\")\n"
   ]
  },
  {
   "cell_type": "markdown",
   "id": "9a4e19fc",
   "metadata": {},
   "source": [
    "**Problem 5: Logical Testing with NumPy**\n",
    "--"
   ]
  },
  {
   "cell_type": "code",
   "execution_count": 231,
   "id": "70abf53c",
   "metadata": {},
   "outputs": [],
   "source": [
    "data = np.array([[5, 8, 3], [7, 2, 9], [6, 4, 1]])"
   ]
  },
  {
   "cell_type": "code",
   "execution_count": 233,
   "id": "03722b0f",
   "metadata": {},
   "outputs": [
    {
     "name": "stdout",
     "output_type": "stream",
     "text": [
      "8 is at row 0, column 1.\n",
      "7 is at row 1, column 0.\n",
      "9 is at row 1, column 2.\n"
     ]
    }
   ],
   "source": [
    "# identifies and prints the location (row and column) of all elements that are greater than 6.\n",
    "\n",
    "for i in range(len(data)):\n",
    "    for j in range(len(data[i])):\n",
    "        if data[i][j] > 6:\n",
    "            print(f\"{data[i][j]} is at row {i}, column {j}.\")     "
   ]
  }
 ],
 "metadata": {
  "kernelspec": {
   "display_name": "Python 3 (ipykernel)",
   "language": "python",
   "name": "python3"
  },
  "language_info": {
   "codemirror_mode": {
    "name": "ipython",
    "version": 3
   },
   "file_extension": ".py",
   "mimetype": "text/x-python",
   "name": "python",
   "nbconvert_exporter": "python",
   "pygments_lexer": "ipython3",
   "version": "3.11.4"
  }
 },
 "nbformat": 4,
 "nbformat_minor": 5
}
