{
 "cells": [
  {
   "cell_type": "markdown",
   "id": "e544bc2f",
   "metadata": {},
   "source": [
    "**Series Exercises:**\n",
    "--"
   ]
  },
  {
   "cell_type": "markdown",
   "id": "5b654b27",
   "metadata": {},
   "source": [
    "**1. Create a Series:**\n"
   ]
  },
  {
   "cell_type": "code",
   "execution_count": 4,
   "id": "9bd7b966",
   "metadata": {},
   "outputs": [
    {
     "name": "stdout",
     "output_type": "stream",
     "text": [
      "a     apple\n",
      "b    banana\n",
      "c    cherry\n",
      "d      date\n",
      "dtype: object\n"
     ]
    },
    {
     "data": {
      "text/plain": [
       "Index(['a', 'b', 'c', 'd'], dtype='object')"
      ]
     },
     "execution_count": 4,
     "metadata": {},
     "output_type": "execute_result"
    }
   ],
   "source": [
    "import pandas as pd\n",
    "fruits = pd.Series(['apple', 'banana', 'cherry', 'date'], index = ['a', 'b', 'c', 'd'])\n",
    "print(fruits)\n",
    "fruits.index"
   ]
  },
  {
   "cell_type": "markdown",
   "id": "c0a7a79e",
   "metadata": {},
   "source": [
    "**2. Accessing elements:**"
   ]
  },
  {
   "cell_type": "code",
   "execution_count": 5,
   "id": "725d7cc8",
   "metadata": {},
   "outputs": [
    {
     "data": {
      "text/plain": [
       "'cherry'"
      ]
     },
     "execution_count": 5,
     "metadata": {},
     "output_type": "execute_result"
    }
   ],
   "source": [
    "#print the second \"b\" element of fruits Series\n",
    "fruits[2]"
   ]
  },
  {
   "cell_type": "markdown",
   "id": "5aa342f8",
   "metadata": {},
   "source": [
    "**3. Series Operations:**"
   ]
  },
  {
   "cell_type": "code",
   "execution_count": 8,
   "id": "a3406e5d",
   "metadata": {},
   "outputs": [
    {
     "name": "stdout",
     "output_type": "stream",
     "text": [
      "0     1\n",
      "1     4\n",
      "2     9\n",
      "3    16\n",
      "4    25\n",
      "dtype: int64\n"
     ]
    },
    {
     "data": {
      "text/plain": [
       "0    11\n",
       "1    14\n",
       "2    19\n",
       "3    26\n",
       "4    35\n",
       "dtype: int64"
      ]
     },
     "execution_count": 8,
     "metadata": {},
     "output_type": "execute_result"
    }
   ],
   "source": [
    "# Series with the squares of numbers 1-5\n",
    "\n",
    "squares = pd.Series([1**2, 2**2, 3**2, 4**2, 5**2])\n",
    "print(squares)\n",
    "squares.add(10) #add 10 to each item in the series"
   ]
  },
  {
   "cell_type": "markdown",
   "id": "ef313b5d",
   "metadata": {},
   "source": [
    "----"
   ]
  },
  {
   "cell_type": "markdown",
   "id": "e1171d72",
   "metadata": {},
   "source": [
    "**DataFrame Exercises:**\n",
    "--"
   ]
  },
  {
   "cell_type": "markdown",
   "id": "3f4fb617",
   "metadata": {},
   "source": [
    "**1. Create a DataFrame:**"
   ]
  },
  {
   "cell_type": "code",
   "execution_count": 70,
   "id": "268e5abd",
   "metadata": {},
   "outputs": [
    {
     "data": {
      "text/html": [
       "<div>\n",
       "<style scoped>\n",
       "    .dataframe tbody tr th:only-of-type {\n",
       "        vertical-align: middle;\n",
       "    }\n",
       "\n",
       "    .dataframe tbody tr th {\n",
       "        vertical-align: top;\n",
       "    }\n",
       "\n",
       "    .dataframe thead th {\n",
       "        text-align: right;\n",
       "    }\n",
       "</style>\n",
       "<table border=\"1\" class=\"dataframe\">\n",
       "  <thead>\n",
       "    <tr style=\"text-align: right;\">\n",
       "      <th></th>\n",
       "      <th>Name</th>\n",
       "      <th>Age</th>\n",
       "      <th>Grade</th>\n",
       "    </tr>\n",
       "  </thead>\n",
       "  <tbody>\n",
       "    <tr>\n",
       "      <th>0</th>\n",
       "      <td>Phoebe</td>\n",
       "      <td>19</td>\n",
       "      <td>A</td>\n",
       "    </tr>\n",
       "    <tr>\n",
       "      <th>1</th>\n",
       "      <td>Patrick</td>\n",
       "      <td>21</td>\n",
       "      <td>B</td>\n",
       "    </tr>\n",
       "    <tr>\n",
       "      <th>2</th>\n",
       "      <td>Petty</td>\n",
       "      <td>20</td>\n",
       "      <td>A</td>\n",
       "    </tr>\n",
       "  </tbody>\n",
       "</table>\n",
       "</div>"
      ],
      "text/plain": [
       "      Name  Age Grade\n",
       "0   Phoebe   19     A\n",
       "1  Patrick   21     B\n",
       "2    Petty   20     A"
      ]
     },
     "execution_count": 70,
     "metadata": {},
     "output_type": "execute_result"
    }
   ],
   "source": [
    "info = [\n",
    "    ['Phoebe', 19, 'A'],\n",
    "    ['Patrick', 21, 'B'],\n",
    "    ['Petty', 20, 'A'],\n",
    "]\n",
    "\n",
    "students = pd.DataFrame(info, columns = ['Name', 'Age', 'Grade'])\n",
    "students"
   ]
  },
  {
   "cell_type": "markdown",
   "id": "cc198725",
   "metadata": {},
   "source": [
    "**2. Accessing Data:**"
   ]
  },
  {
   "cell_type": "code",
   "execution_count": 71,
   "id": "0f2adf4f",
   "metadata": {},
   "outputs": [
    {
     "data": {
      "text/plain": [
       "0     Phoebe\n",
       "1    Patrick\n",
       "2      Petty\n",
       "Name: Name, dtype: object"
      ]
     },
     "execution_count": 71,
     "metadata": {},
     "output_type": "execute_result"
    }
   ],
   "source": [
    "students['Name']"
   ]
  },
  {
   "cell_type": "markdown",
   "id": "a9bf0892",
   "metadata": {},
   "source": [
    "**3. DataFrame Operations:**"
   ]
  },
  {
   "cell_type": "code",
   "execution_count": 72,
   "id": "43f25554",
   "metadata": {},
   "outputs": [
    {
     "data": {
      "text/html": [
       "<div>\n",
       "<style scoped>\n",
       "    .dataframe tbody tr th:only-of-type {\n",
       "        vertical-align: middle;\n",
       "    }\n",
       "\n",
       "    .dataframe tbody tr th {\n",
       "        vertical-align: top;\n",
       "    }\n",
       "\n",
       "    .dataframe thead th {\n",
       "        text-align: right;\n",
       "    }\n",
       "</style>\n",
       "<table border=\"1\" class=\"dataframe\">\n",
       "  <thead>\n",
       "    <tr style=\"text-align: right;\">\n",
       "      <th></th>\n",
       "      <th>Name</th>\n",
       "      <th>Age</th>\n",
       "      <th>Grade</th>\n",
       "      <th>Graduated</th>\n",
       "    </tr>\n",
       "  </thead>\n",
       "  <tbody>\n",
       "    <tr>\n",
       "      <th>0</th>\n",
       "      <td>Phoebe</td>\n",
       "      <td>19</td>\n",
       "      <td>A</td>\n",
       "      <td>True</td>\n",
       "    </tr>\n",
       "    <tr>\n",
       "      <th>1</th>\n",
       "      <td>Patrick</td>\n",
       "      <td>21</td>\n",
       "      <td>B</td>\n",
       "      <td>False</td>\n",
       "    </tr>\n",
       "    <tr>\n",
       "      <th>2</th>\n",
       "      <td>Petty</td>\n",
       "      <td>20</td>\n",
       "      <td>A</td>\n",
       "      <td>True</td>\n",
       "    </tr>\n",
       "  </tbody>\n",
       "</table>\n",
       "</div>"
      ],
      "text/plain": [
       "      Name  Age Grade  Graduated\n",
       "0   Phoebe   19     A       True\n",
       "1  Patrick   21     B      False\n",
       "2    Petty   20     A       True"
      ]
     },
     "execution_count": 72,
     "metadata": {},
     "output_type": "execute_result"
    }
   ],
   "source": [
    "#add new column 'Graduated', True if grade is 'A' and False otherwise\n",
    "info = [\n",
    "    ['Phoebe', 19, 'A', True],\n",
    "    ['Patrick', 21, 'B', False],\n",
    "    ['Petty', 20, 'A', True],\n",
    "]\n",
    "\n",
    "students = pd.DataFrame(info, columns = ['Name', 'Age', 'Grade', 'Graduated'])\n",
    "students"
   ]
  },
  {
   "cell_type": "markdown",
   "id": "bace5cd8",
   "metadata": {},
   "source": [
    "**4. Maths:**"
   ]
  },
  {
   "cell_type": "code",
   "execution_count": 73,
   "id": "7ab36dfd",
   "metadata": {},
   "outputs": [
    {
     "name": "stdout",
     "output_type": "stream",
     "text": [
      "20.0\n"
     ]
    }
   ],
   "source": [
    "#average age of the students\n",
    "ave = students[\"Age\"].mean()\n",
    "print(ave)"
   ]
  },
  {
   "cell_type": "markdown",
   "id": "25a123dc",
   "metadata": {},
   "source": [
    "**5. Sorting:**"
   ]
  },
  {
   "cell_type": "code",
   "execution_count": 74,
   "id": "f400b573",
   "metadata": {},
   "outputs": [
    {
     "data": {
      "text/html": [
       "<div>\n",
       "<style scoped>\n",
       "    .dataframe tbody tr th:only-of-type {\n",
       "        vertical-align: middle;\n",
       "    }\n",
       "\n",
       "    .dataframe tbody tr th {\n",
       "        vertical-align: top;\n",
       "    }\n",
       "\n",
       "    .dataframe thead th {\n",
       "        text-align: right;\n",
       "    }\n",
       "</style>\n",
       "<table border=\"1\" class=\"dataframe\">\n",
       "  <thead>\n",
       "    <tr style=\"text-align: right;\">\n",
       "      <th></th>\n",
       "      <th>Name</th>\n",
       "      <th>Age</th>\n",
       "      <th>Grade</th>\n",
       "      <th>Graduated</th>\n",
       "    </tr>\n",
       "  </thead>\n",
       "  <tbody>\n",
       "    <tr>\n",
       "      <th>1</th>\n",
       "      <td>Patrick</td>\n",
       "      <td>21</td>\n",
       "      <td>B</td>\n",
       "      <td>False</td>\n",
       "    </tr>\n",
       "    <tr>\n",
       "      <th>2</th>\n",
       "      <td>Petty</td>\n",
       "      <td>20</td>\n",
       "      <td>A</td>\n",
       "      <td>True</td>\n",
       "    </tr>\n",
       "    <tr>\n",
       "      <th>0</th>\n",
       "      <td>Phoebe</td>\n",
       "      <td>19</td>\n",
       "      <td>A</td>\n",
       "      <td>True</td>\n",
       "    </tr>\n",
       "  </tbody>\n",
       "</table>\n",
       "</div>"
      ],
      "text/plain": [
       "      Name  Age Grade  Graduated\n",
       "1  Patrick   21     B      False\n",
       "2    Petty   20     A       True\n",
       "0   Phoebe   19     A       True"
      ]
     },
     "execution_count": 74,
     "metadata": {},
     "output_type": "execute_result"
    }
   ],
   "source": [
    "#sort students based on age in descending order\n",
    "desc_age = students.sort_values(\"Age\", ascending = False)\n",
    "desc_age"
   ]
  },
  {
   "cell_type": "markdown",
   "id": "98b7462e",
   "metadata": {},
   "source": [
    "**6. Tidy Data:**"
   ]
  },
  {
   "cell_type": "code",
   "execution_count": 75,
   "id": "5b13114d",
   "metadata": {},
   "outputs": [
    {
     "data": {
      "text/html": [
       "<div>\n",
       "<style scoped>\n",
       "    .dataframe tbody tr th:only-of-type {\n",
       "        vertical-align: middle;\n",
       "    }\n",
       "\n",
       "    .dataframe tbody tr th {\n",
       "        vertical-align: top;\n",
       "    }\n",
       "\n",
       "    .dataframe thead th {\n",
       "        text-align: right;\n",
       "    }\n",
       "</style>\n",
       "<table border=\"1\" class=\"dataframe\">\n",
       "  <thead>\n",
       "    <tr style=\"text-align: right;\">\n",
       "      <th></th>\n",
       "      <th>happiness</th>\n",
       "      <th>language</th>\n",
       "      <th>energy</th>\n",
       "      <th>memory</th>\n",
       "    </tr>\n",
       "  </thead>\n",
       "  <tbody>\n",
       "    <tr>\n",
       "      <th>subject 1</th>\n",
       "      <td>10</td>\n",
       "      <td>2</td>\n",
       "      <td>5</td>\n",
       "      <td>3</td>\n",
       "    </tr>\n",
       "    <tr>\n",
       "      <th>subject 2</th>\n",
       "      <td>15</td>\n",
       "      <td>4</td>\n",
       "      <td>9</td>\n",
       "      <td>6</td>\n",
       "    </tr>\n",
       "    <tr>\n",
       "      <th>subject 3</th>\n",
       "      <td>18</td>\n",
       "      <td>7</td>\n",
       "      <td>12</td>\n",
       "      <td>9</td>\n",
       "    </tr>\n",
       "    <tr>\n",
       "      <th>subject 4</th>\n",
       "      <td>13</td>\n",
       "      <td>2</td>\n",
       "      <td>7</td>\n",
       "      <td>8</td>\n",
       "    </tr>\n",
       "  </tbody>\n",
       "</table>\n",
       "</div>"
      ],
      "text/plain": [
       "           happiness  language  energy  memory\n",
       "subject 1         10         2       5       3\n",
       "subject 2         15         4       9       6\n",
       "subject 3         18         7      12       9\n",
       "subject 4         13         2       7       8"
      ]
     },
     "execution_count": 75,
     "metadata": {},
     "output_type": "execute_result"
    }
   ],
   "source": [
    "#organize the data with column as variable and row as observation\n",
    "\n",
    "cognitive_health_happiness_dict = {'subject 1':10,\n",
    "                                  'subject 2': 15, \n",
    "                                  'subject 3': 15+3, \n",
    "                                  'subject 4': 15-2}\n",
    "cognitive_health_happiness_series = pd.Series(cognitive_health_happiness_dict)\n",
    "\n",
    "cognitive_health_language_dict = {'subject 1':2,\n",
    "                                  'subject 2': 4, \n",
    "                                  'subject 3': 4+3, \n",
    "                                  'subject 4': 4-2}\n",
    "cognitive_health_language_series = pd.Series(cognitive_health_language_dict)\n",
    "\n",
    "\n",
    "cognitive_health_energy_dict = {'subject 1': 5,\n",
    "                                  'subject 2': 9, \n",
    "                                  'subject 3': 9+3, \n",
    "                                  'subject 4': 9-2}\n",
    "cognitive_health_energy_series = pd.Series(cognitive_health_energy_dict)\n",
    "\n",
    "\n",
    "cognitive_health_memory_dict = {'subject 1': 3,\n",
    "                                  'subject 2': 6, \n",
    "                                  'subject 3': 6+3, \n",
    "                                  'subject 4': 6+2}\n",
    "cognitive_health_memory_series = pd.Series(cognitive_health_memory_dict)\n",
    "\n",
    "\n",
    "dict = {'happiness' : cognitive_health_happiness_series, \n",
    "        'language' : cognitive_health_language_series, \n",
    "        'energy' : cognitive_health_energy_series,\n",
    "        'memory' : cognitive_health_memory_series,\n",
    "       }\n",
    "sample = pd.DataFrame(dict)\n",
    "sample"
   ]
  },
  {
   "cell_type": "code",
   "execution_count": 76,
   "id": "f1b63431",
   "metadata": {},
   "outputs": [
    {
     "data": {
      "text/plain": [
       "happiness    14.00\n",
       "language      3.75\n",
       "energy        8.25\n",
       "memory        6.50\n",
       "dtype: float64"
      ]
     },
     "execution_count": 76,
     "metadata": {},
     "output_type": "execute_result"
    }
   ],
   "source": [
    "#compute mean of all variables\n",
    "sample.mean()"
   ]
  },
  {
   "cell_type": "code",
   "execution_count": 77,
   "id": "4db3c651",
   "metadata": {},
   "outputs": [
    {
     "data": {
      "text/plain": [
       "happiness    3.366502\n",
       "language     2.362908\n",
       "energy       2.986079\n",
       "memory       2.645751\n",
       "dtype: float64"
      ]
     },
     "execution_count": 77,
     "metadata": {},
     "output_type": "execute_result"
    }
   ],
   "source": [
    "#computer standard deviation of all variables\n",
    "sample.std()"
   ]
  },
  {
   "cell_type": "code",
   "execution_count": 79,
   "id": "9b63a299",
   "metadata": {},
   "outputs": [
    {
     "data": {
      "text/plain": [
       "14.0"
      ]
     },
     "execution_count": 79,
     "metadata": {},
     "output_type": "execute_result"
    }
   ],
   "source": [
    "#mean of happiness variable\n",
    "sample[\"happiness\"].mean()"
   ]
  },
  {
   "cell_type": "code",
   "execution_count": 80,
   "id": "8e3366db",
   "metadata": {},
   "outputs": [
    {
     "data": {
      "text/plain": [
       "1.6832508230603465"
      ]
     },
     "execution_count": 80,
     "metadata": {},
     "output_type": "execute_result"
    }
   ],
   "source": [
    "#standard error of happiness variable\n",
    "sample[\"happiness\"].sem()"
   ]
  }
 ],
 "metadata": {
  "kernelspec": {
   "display_name": "Python 3 (ipykernel)",
   "language": "python",
   "name": "python3"
  },
  "language_info": {
   "codemirror_mode": {
    "name": "ipython",
    "version": 3
   },
   "file_extension": ".py",
   "mimetype": "text/x-python",
   "name": "python",
   "nbconvert_exporter": "python",
   "pygments_lexer": "ipython3",
   "version": "3.11.4"
  }
 },
 "nbformat": 4,
 "nbformat_minor": 5
}
