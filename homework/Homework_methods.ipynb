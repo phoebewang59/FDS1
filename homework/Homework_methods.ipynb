{
 "cells": [
  {
   "cell_type": "markdown",
   "id": "46b913da",
   "metadata": {},
   "source": [
    "**Part A: Slicing**\n",
    "--"
   ]
  },
  {
   "cell_type": "markdown",
   "id": "1a1fed97",
   "metadata": {},
   "source": [
    "**1. Strings**"
   ]
  },
  {
   "cell_type": "code",
   "execution_count": 11,
   "id": "85cf26bb",
   "metadata": {},
   "outputs": [
    {
     "name": "stdout",
     "output_type": "stream",
     "text": [
      "Program\n",
      "Fun\n",
      "Pgmnsn\n"
     ]
    }
   ],
   "source": [
    "s = \"ProgrammingIsFun\"\n",
    "\n",
    "#substring \"Program\"\n",
    "sub_str = s[0:7]\n",
    "print(sub_str)\n",
    "\n",
    "#substring \"Fun\"\n",
    "sub_str1 = s[-3:]\n",
    "print(sub_str1)\n",
    "\n",
    "#every 3rd character of the string\n",
    "third_c = s[::3]\n",
    "print(third_c)"
   ]
  },
  {
   "cell_type": "markdown",
   "id": "c327b904",
   "metadata": {},
   "source": [
    "**2. Lists**"
   ]
  },
  {
   "cell_type": "code",
   "execution_count": 35,
   "id": "9d145c33",
   "metadata": {},
   "outputs": [
    {
     "name": "stdout",
     "output_type": "stream",
     "text": [
      "[10, 20, 30]\n",
      "[70, 80]\n",
      "[40, 50, 60, 70]\n",
      "[20, 40, 60, 80]\n",
      "[70, 50, 30, 10]\n"
     ]
    }
   ],
   "source": [
    "lst = [10, 20, 30, 40, 50, 60, 70, 80]\n",
    "\n",
    "#first 3 elements\n",
    "three = lst[0:3]\n",
    "print(three)\n",
    "\n",
    "#last 2 elements\n",
    "two = lst[-2:]\n",
    "print(two)\n",
    "\n",
    "#elements from index 3 to 6 (inclusive)\n",
    "three_six = lst[3:7]\n",
    "print(three_six)\n",
    "\n",
    "#every 2nd element\n",
    "second = lst[1::2]\n",
    "print(second)\n",
    "\n",
    "#every 2nd element starting from the end of the list\n",
    "end_second = lst[-2::-2]\n",
    "print(end_second)"
   ]
  },
  {
   "cell_type": "markdown",
   "id": "1a6ca778",
   "metadata": {},
   "source": [
    "**3. Tuples**"
   ]
  },
  {
   "cell_type": "code",
   "execution_count": 45,
   "id": "30e2c6ba",
   "metadata": {},
   "outputs": [
    {
     "name": "stdout",
     "output_type": "stream",
     "text": [
      "10\n",
      "(30, 35, 40)\n",
      "(15, 20, 25)\n"
     ]
    }
   ],
   "source": [
    "tup = (5, 10, 15, 20, 25, 30, 35, 40)\n",
    "\n",
    "#second element\n",
    "sub = tup[1]\n",
    "print(sub)\n",
    "\n",
    "#last 3 elements\n",
    "last_three = tup[-3:]\n",
    "print(last_three)\n",
    "\n",
    "#elements from index 2 to 5 (exclusive)\n",
    "two_five = tup[2:5]\n",
    "print(two_five)"
   ]
  },
  {
   "cell_type": "markdown",
   "id": "339bc677",
   "metadata": {},
   "source": [
    "---"
   ]
  },
  {
   "cell_type": "markdown",
   "id": "625f7f83",
   "metadata": {},
   "source": [
    "**Part B**\n",
    "--"
   ]
  },
  {
   "cell_type": "markdown",
   "id": "8a42b682",
   "metadata": {},
   "source": [
    "**1. Strings**"
   ]
  },
  {
   "cell_type": "code",
   "execution_count": 94,
   "id": "2fddc792",
   "metadata": {},
   "outputs": [
    {
     "name": "stdout",
     "output_type": "stream",
     "text": [
      "7\n",
      "programmingisfun\n"
     ]
    },
    {
     "data": {
      "text/plain": [
       "'ProgrammingIsAmazing'"
      ]
     },
     "execution_count": 94,
     "metadata": {},
     "output_type": "execute_result"
    }
   ],
   "source": [
    "#index of the first occurrence of the substring \"ming\" in s\n",
    "ming = s.index(\"ming\")\n",
    "print(ming)\n",
    "\n",
    "#convert string s to lowercase\n",
    "print(s.lower())\n",
    "\n",
    "#replace \"Fun\" with \"Amazing\"\n",
    "rep = \"Amazing\"\n",
    "s.replace(\"Fun\", rep)"
   ]
  },
  {
   "cell_type": "markdown",
   "id": "b87b10f8",
   "metadata": {},
   "source": [
    "**2. Lists**"
   ]
  },
  {
   "cell_type": "code",
   "execution_count": 71,
   "id": "0a91bbc0",
   "metadata": {},
   "outputs": [
    {
     "name": "stdout",
     "output_type": "stream",
     "text": [
      "[10, 20, 30, 40, 50, 60, 70, 80, 90, 100]\n",
      "[10, 30, 40, 50, 60, 70, 80, 90, 100]\n",
      "[100, 90, 80, 70, 60, 50, 40, 30, 10]\n",
      "5\n"
     ]
    }
   ],
   "source": [
    "lst = [10, 20, 30, 40, 50, 60, 70, 80]\n",
    "\n",
    "#add elements 90 and 100 to end of lst\n",
    "new = [90, 100]\n",
    "lst.extend(new)\n",
    "print(lst)\n",
    "\n",
    "#remove the second element\n",
    "lst.remove(20)\n",
    "print(lst)\n",
    "\n",
    "#reverse order of elements\n",
    "lst.reverse()\n",
    "print(lst)\n",
    "\n",
    "#index of element 50 in lst\n",
    "index_fifty = lst.index(50)\n",
    "print(index_fifty)"
   ]
  },
  {
   "cell_type": "markdown",
   "id": "03a44412",
   "metadata": {},
   "source": [
    "**3. Tuples**"
   ]
  },
  {
   "cell_type": "code",
   "execution_count": 79,
   "id": "002937cd",
   "metadata": {},
   "outputs": [
    {
     "name": "stdout",
     "output_type": "stream",
     "text": [
      "1\n",
      "(5, 10, 15, 20, 25, 30, 35, 40, 45)\n"
     ]
    }
   ],
   "source": [
    "tup = (5, 10, 15, 20, 25, 30, 35, 40)\n",
    "\n",
    "#number of occurrences of 20\n",
    "print(tup.count(20))\n",
    "\n",
    "#convert between tup and list and adding 45\n",
    "tup_list = list(tup)\n",
    "tup_list.append(45)\n",
    "convert_back_to_tup = tuple(tup_list)\n",
    "print(convert_back_to_tup)"
   ]
  },
  {
   "cell_type": "markdown",
   "id": "aae3143d",
   "metadata": {},
   "source": [
    "**4. Dictionaries**"
   ]
  },
  {
   "cell_type": "code",
   "execution_count": 92,
   "id": "c720eb8e",
   "metadata": {},
   "outputs": [
    {
     "name": "stdout",
     "output_type": "stream",
     "text": [
      "{'Scooby': 4, 'Shaggy': 19, 'Velma': 18, 'Daphne': 20, 'Phred': 21}\n",
      "18\n",
      "{'Shaggy': 19, 'Velma': 18, 'Daphne': 20, 'Phred': 21}\n",
      "dict_keys(['Shaggy', 'Velma', 'Daphne', 'Phred'])\n",
      "dict_values([19, 18, 20, 21])\n"
     ]
    }
   ],
   "source": [
    "S_Doo_ = {\"Scooby\": 4, \"Shaggy\": 19, \"Velma\": 18, \"Daphne\": 20}\n",
    "\n",
    "#add new key-value pair\n",
    "S_Doo_[\"Phred\"] = 21\n",
    "print(S_Doo_)\n",
    "\n",
    "#age of \"Velma\"\n",
    "print(S_Doo_[\"Velma\"])\n",
    "\n",
    "#remove Scooby and age \n",
    "del S_Doo_[\"Scooby\"]\n",
    "print(S_Doo_)\n",
    "\n",
    "#all keys\n",
    "print(S_Doo_.keys())\n",
    "\n",
    "#all values\n",
    "print(S_Doo_.values())"
   ]
  }
 ],
 "metadata": {
  "kernelspec": {
   "display_name": "Python 3 (ipykernel)",
   "language": "python",
   "name": "python3"
  },
  "language_info": {
   "codemirror_mode": {
    "name": "ipython",
    "version": 3
   },
   "file_extension": ".py",
   "mimetype": "text/x-python",
   "name": "python",
   "nbconvert_exporter": "python",
   "pygments_lexer": "ipython3",
   "version": "3.11.4"
  }
 },
 "nbformat": 4,
 "nbformat_minor": 5
}
