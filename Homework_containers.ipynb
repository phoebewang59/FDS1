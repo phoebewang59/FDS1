{
 "cells": [
  {
   "cell_type": "markdown",
   "id": "d4e1dbfb",
   "metadata": {},
   "source": [
    "**1. Indexing strings**"
   ]
  },
  {
   "cell_type": "code",
   "execution_count": 8,
   "id": "584f7270",
   "metadata": {},
   "outputs": [
    {
     "name": "stdout",
     "output_type": "stream",
     "text": [
      "P N H <class 'str'>\n"
     ]
    }
   ],
   "source": [
    "s = \"PYTHON\"\n",
    "\n",
    "first_character = s[0]\n",
    "last_character = s[5]\n",
    "string_H = s[3]\n",
    "type_H = type(string_H)\n",
    "\n",
    "print(first_character, last_character, string_H, type_H)"
   ]
  },
  {
   "cell_type": "markdown",
   "id": "e189a953",
   "metadata": {},
   "source": [
    "**2. Indexing Tuples**"
   ]
  },
  {
   "cell_type": "code",
   "execution_count": 45,
   "id": "33b24a01",
   "metadata": {},
   "outputs": [
    {
     "name": "stdout",
     "output_type": "stream",
     "text": [
      "10 30\n",
      "(10, 20, 30.4, 40, 50, 60)\n"
     ]
    }
   ],
   "source": [
    "t = (10, 20, 30, 40, 50, 60)\n",
    "\n",
    "first_element = t[0]\n",
    "third_element = t[2]\n",
    "\n",
    "print(first_element, third_element)\n",
    "\n",
    "#set the 3rd element to 30.4\n",
    "t = (10, 20, 30.4, 40, 50, 60)\n",
    "print(t)"
   ]
  },
  {
   "cell_type": "markdown",
   "id": "cc3aac25",
   "metadata": {},
   "source": [
    "**3. Indexing Lists and Lists of Lists**"
   ]
  },
  {
   "cell_type": "code",
   "execution_count": 14,
   "id": "e0ad66a4",
   "metadata": {},
   "outputs": [
    {
     "name": "stdout",
     "output_type": "stream",
     "text": [
      "10 95 [55, 65, 75] 65\n"
     ]
    }
   ],
   "source": [
    "lst = [5, 15, 25, [35, 45, [55, 65, 75], 85], 95]\n",
    "\n",
    "frst_element = lst[0]\n",
    "last_element = lst[4]\n",
    "sublist = lst[3][2]\n",
    "num = sublist[1]\n",
    "\n",
    "print(first_element, last_element, sublist, num)"
   ]
  },
  {
   "cell_type": "markdown",
   "id": "28418277",
   "metadata": {},
   "source": [
    "**4. Lists of Lists as Arrays**"
   ]
  },
  {
   "cell_type": "code",
   "execution_count": 48,
   "id": "e18f85eb",
   "metadata": {},
   "outputs": [
    {
     "name": "stdout",
     "output_type": "stream",
     "text": [
      "[4, 5, 6]\n",
      "[3, 6, 9]\n",
      "[[1, 2, 3], [4, 0, 6], [7, 8, 9]]\n"
     ]
    }
   ],
   "source": [
    "matrix = [\n",
    "    [1, 2, 3],\n",
    "    [4, 5, 6],\n",
    "    [7, 8, 9]\n",
    "]\n",
    "\n",
    "second_row = matrix[1]\n",
    "print(second_row)\n",
    "\n",
    "third_column = [matrix[0][2], matrix[1][2], matrix[2][2]]\n",
    "print(third_column)\n",
    "\n",
    "#changed center element to 0\n",
    "matrix[1][1] = 0\n",
    "print(matrix)"
   ]
  },
  {
   "cell_type": "markdown",
   "id": "7a9b9ab6",
   "metadata": {},
   "source": [
    "**5. Using Sets**"
   ]
  },
  {
   "cell_type": "code",
   "execution_count": 43,
   "id": "91970266",
   "metadata": {},
   "outputs": [
    {
     "name": "stdout",
     "output_type": "stream",
     "text": [
      "{1, 2, 3, 4, 5, 6, 7, 8}\n",
      "{4, 5}\n",
      "{1, 2, 3}\n",
      "{1, 2, 3, 6, 7, 8}\n"
     ]
    }
   ],
   "source": [
    "A = [1, 2, 2, 3, 4, 4, 5]\n",
    "B = [4, 5, 5, 6, 7, 7, 8]\n",
    "\n",
    "lst_A = set(A)\n",
    "lst_B = set(B)\n",
    "\n",
    "union = lst_A | lst_B\n",
    "print(union)\n",
    "\n",
    "intersection = lst_A & lst_B\n",
    "print(intersection)\n",
    "\n",
    "# elements in A but not in B\n",
    "in_A_not_B = lst_A - lst_B\n",
    "print(in_A_not_B)\n",
    "\n",
    "# elements in A or B but not both\n",
    "not_both = lst_A ^ lst_B  \n",
    "print(not_both)"
   ]
  },
  {
   "cell_type": "markdown",
   "id": "44cf2c27",
   "metadata": {},
   "source": [
    "**6. Working with Dictionaries**"
   ]
  },
  {
   "cell_type": "code",
   "execution_count": 44,
   "id": "4c8e7fce",
   "metadata": {},
   "outputs": [
    {
     "name": "stdout",
     "output_type": "stream",
     "text": [
      "50\n",
      "{'apple': 50, 'banana': 30, 'grape': 45, 'pear': 40}\n"
     ]
    }
   ],
   "source": [
    "stock = {\n",
    "    \"apple\": 50,\n",
    "    \"banana\": 25,\n",
    "    \"orange\": 30,\n",
    "    \"grape\": 45\n",
    "}\n",
    "\n",
    "#retrieved the stock of apple\n",
    "print(stock[\"apple\"]) \n",
    "\n",
    "#add new fruit\n",
    "stock[\"pear\"] = 40\n",
    "\n",
    "#updated the stock\n",
    "stock[\"banana\"] = 30\n",
    "\n",
    "#remove orange\n",
    "del stock[\"orange\"]\n",
    "\n",
    "print(stock)"
   ]
  }
 ],
 "metadata": {
  "kernelspec": {
   "display_name": "Python 3 (ipykernel)",
   "language": "python",
   "name": "python3"
  },
  "language_info": {
   "codemirror_mode": {
    "name": "ipython",
    "version": 3
   },
   "file_extension": ".py",
   "mimetype": "text/x-python",
   "name": "python",
   "nbconvert_exporter": "python",
   "pygments_lexer": "ipython3",
   "version": "3.11.4"
  }
 },
 "nbformat": 4,
 "nbformat_minor": 5
}
