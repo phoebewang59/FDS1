{
 "cells": [
  {
   "cell_type": "markdown",
   "id": "ab267b53",
   "metadata": {},
   "source": [
    "**0. Logic:**\n",
    "--"
   ]
  },
  {
   "cell_type": "code",
   "execution_count": 1,
   "id": "6fa27bcd",
   "metadata": {},
   "outputs": [
    {
     "name": "stdout",
     "output_type": "stream",
     "text": [
      "Yes there is an o in the string!\n"
     ]
    }
   ],
   "source": [
    "# a) determine whether y or o are in the string\n",
    "test_strs = [\"y\", \"o\"]\n",
    "comp_str = \"Hello World!\"\n",
    "\n",
    "if test_strs[0] in comp_str:\n",
    "    print(\"Yes there is a y in the string!\")\n",
    "elif test_strs[1] in comp_str: \n",
    "    print(\"Yes there is an o in the string!\")"
   ]
  },
  {
   "cell_type": "code",
   "execution_count": 16,
   "id": "1f0a7f6e",
   "metadata": {},
   "outputs": [
    {
     "data": {
      "text/plain": [
       "True"
      ]
     },
     "execution_count": 16,
     "metadata": {},
     "output_type": "execute_result"
    }
   ],
   "source": [
    "#b) perform xor on two boolean variables\n",
    "a, b = 1, 2\n",
    "\n",
    "(a > b) and (a < b) #True for xor because only one of them is true\n",
    "\n",
    "not (a > b) or (a < b) #False for xor because both are true"
   ]
  },
  {
   "cell_type": "markdown",
   "id": "4a6f9ace",
   "metadata": {},
   "source": [
    "**1. Age Category:**\n",
    "--"
   ]
  },
  {
   "cell_type": "code",
   "execution_count": 20,
   "id": "a5cdd018",
   "metadata": {},
   "outputs": [
    {
     "name": "stdout",
     "output_type": "stream",
     "text": [
      "How old are you? 19\n",
      "Teenager\n"
     ]
    }
   ],
   "source": [
    "# a) ask user to input age\n",
    "# b) based on age, classifies them into one of the categories\n",
    "\n",
    "age = input(\"How old are you? \")\n",
    "age = int(age)\n",
    "\n",
    "if age <= 2:\n",
    "    print(\"Infant\")\n",
    "elif age <= 12:\n",
    "    print(\"Child\")\n",
    "elif age <= 19:\n",
    "    print(\"Teenager\")\n",
    "elif age <=64:\n",
    "    print(\"Adult\")\n",
    "else:\n",
    "    print(\"Senior\")"
   ]
  },
  {
   "cell_type": "markdown",
   "id": "bf60c7f9",
   "metadata": {},
   "source": [
    "**2. Number Classifer:**\n",
    "--"
   ]
  },
  {
   "cell_type": "code",
   "execution_count": 21,
   "id": "f4c78260",
   "metadata": {},
   "outputs": [
    {
     "name": "stdout",
     "output_type": "stream",
     "text": [
      "Please enter a random number: -5\n",
      "Your number, -5 , is negative and odd.\n"
     ]
    }
   ],
   "source": [
    "# a) check if input number is positive, negative, or zero\n",
    "# b) check if number is even or odd\n",
    "\n",
    "num = input(\"Please enter a random number: \")\n",
    "num = int(num)\n",
    "\n",
    "if (num < 0) and (num %2 == 0):\n",
    "    print(\"Your number,\", num, \", is negative and even.\")\n",
    "elif (num < 0) and (num %2 != 0):\n",
    "    print(\"Your number,\", num, \", is negative and odd.\")\n",
    "elif (num > 0) and (num %2 == 0):\n",
    "    print(\"Your number,\", num, \", is positive and even.\")\n",
    "elif (num > 0) and (num %2 != 0):\n",
    "    print(\"Your number,\", num, \",is positive and odd.\")\n",
    "else:\n",
    "    print(\"Your number,\", num, \", is zero and even.\")"
   ]
  },
  {
   "cell_type": "markdown",
   "id": "25bd0226",
   "metadata": {},
   "source": [
    "**3. Simple Calculator:**\n",
    "--"
   ]
  },
  {
   "cell_type": "code",
   "execution_count": 6,
   "id": "bae0c914",
   "metadata": {},
   "outputs": [
    {
     "name": "stdout",
     "output_type": "stream",
     "text": [
      "Please enter the first number: 3\n",
      "Please enter the second number: 4\n",
      "Please enter the operation you want (addition, subtraction, multiplication, or division): subtraction\n",
      "The subtraction answer is: -1 .\n"
     ]
    }
   ],
   "source": [
    "#a) Ask the user to input two numbers.\n",
    "#b) Ask the user to select an operation.\n",
    "#c) Perform operation on the two numbers and display the result.\n",
    "\n",
    "num_1 = input(\"Please enter the first number: \")\n",
    "num_1 = int(num_1)\n",
    "\n",
    "num_2 = input(\"Please enter the second number: \")\n",
    "num_2 = int(num_2)\n",
    "\n",
    "oper = input(\"Please enter the operation you want (addition, subtraction, multiplication, or division): \")\n",
    "\n",
    "if oper == \"addition\":\n",
    "    add_ans = num_1 + num_2\n",
    "    print(\"The addition answer is:\", add_ans, \".\")\n",
    "elif oper == \"subtraction\":\n",
    "    sub_ans = num_1 - num_2\n",
    "    print(\"The subtraction answer is:\", sub_ans, \".\")\n",
    "elif oper == \"multiplication\":\n",
    "    mul_ans = num_1 * num_2\n",
    "    print(\"The multiplication answer is:\", mul_ans, \".\")\n",
    "elif oper == \"division\":\n",
    "    div_ans = num_1 / num_2\n",
    "    print(\"The division answer is:\", div_ans, \".\")\n",
    "else:\n",
    "    print(\"Sorry, the operation you've entered is invalid.\")"
   ]
  },
  {
   "cell_type": "markdown",
   "id": "9aa04439",
   "metadata": {},
   "source": [
    "**4. Guessing Game:**\n",
    "--"
   ]
  },
  {
   "cell_type": "code",
   "execution_count": 13,
   "id": "9b522b69",
   "metadata": {},
   "outputs": [
    {
     "name": "stdout",
     "output_type": "stream",
     "text": [
      "Guess a number between 0 and 20 in five tries! 3\n",
      "Too low!\n",
      "Guess a number between 0 and 20 in five tries! 7\n",
      "Too low!\n",
      "Guess a number between 0 and 20 in five tries! 20\n",
      "Too high!\n",
      "Guess a number between 0 and 20 in five tries! 15\n",
      "Too low!\n",
      "Guess a number between 0 and 20 in five tries! 16\n",
      "Sorry, you've reached the maximum attempts. The correct answer was 19 .\n"
     ]
    }
   ],
   "source": [
    "import random\n",
    "answer = random.randint(0,20)\n",
    "max_attempt = 4\n",
    "num_of_guesses = 0\n",
    "\n",
    "guess = int(input(\"Guess a number between 0 and 20 in five tries! \"))\n",
    "\n",
    "while (num_of_guesses < max_attempt) and guess != answer: \n",
    "    num_of_guesses +=1\n",
    "    if guess > answer:\n",
    "        print(\"Too high!\")\n",
    "        guess = int(input(\"Guess a number between 0 and 20 in five tries! \"))\n",
    "    elif guess < answer:\n",
    "        print(\"Too low!\")\n",
    "        guess = int(input(\"Guess a number between 0 and 20 in five tries! \"))\n",
    "\n",
    "if guess == answer:\n",
    "    print(\"You're right! The answer was\", answer,\".\")\n",
    "else:\n",
    "    print(\"Sorry, you've reached the maximum attempts. The correct answer was\", answer, \".\")"
   ]
  },
  {
   "cell_type": "markdown",
   "id": "28341003",
   "metadata": {},
   "source": [
    "**5. Counter Contrast:**\n",
    "--"
   ]
  },
  {
   "cell_type": "code",
   "execution_count": 14,
   "id": "c6129221",
   "metadata": {},
   "outputs": [
    {
     "name": "stdout",
     "output_type": "stream",
     "text": [
      "Please enter a random positive number: 6\n",
      "1\n",
      "2\n",
      "3\n",
      "4\n",
      "5\n",
      "6\n"
     ]
    }
   ],
   "source": [
    "#ask user for positive int and prints numbers up to n\n",
    "pos_int = int(input(\"Please enter a random positive number: \"))\n",
    "\n",
    "#a) use for loop\n",
    "for i in range(1, pos_int + 1):\n",
    "    print(i)"
   ]
  },
  {
   "cell_type": "code",
   "execution_count": 16,
   "id": "8ae56de8",
   "metadata": {},
   "outputs": [
    {
     "name": "stdout",
     "output_type": "stream",
     "text": [
      "Please enter a random positive number: 4\n",
      "1\n",
      "2\n",
      "3\n",
      "4\n"
     ]
    }
   ],
   "source": [
    "#b) use while loop\n",
    "pos_int = int(input(\"Please enter a random positive number: \"))\n",
    "start = 1\n",
    "while start <= pos_int:\n",
    "    print(start)\n",
    "    start += 1"
   ]
  },
  {
   "cell_type": "markdown",
   "id": "2d6a66bb",
   "metadata": {},
   "source": [
    "I prefer for loop because there are less code and it is simplier."
   ]
  },
  {
   "cell_type": "markdown",
   "id": "2fb2245e",
   "metadata": {},
   "source": [
    "**6. Multiplication Table:**\n",
    "--"
   ]
  },
  {
   "cell_type": "code",
   "execution_count": 40,
   "id": "a7e00568",
   "metadata": {},
   "outputs": [
    {
     "name": "stdout",
     "output_type": "stream",
     "text": [
      "Please enter a random number: 3\n",
      "3 x 1 = 3\n",
      "3 x 2 = 6\n",
      "3 x 3 = 9\n",
      "3 x 4 = 12\n",
      "3 x 5 = 15\n",
      "3 x 6 = 18\n",
      "3 x 7 = 21\n",
      "3 x 8 = 24\n",
      "3 x 9 = 27\n",
      "3 x 10 = 30\n"
     ]
    }
   ],
   "source": [
    "# a) ask user for a number\n",
    "# b) generate and print multiplication table for number up to 10\n",
    "\n",
    "user_num = int(input(\"Please enter a random number: \"))\n",
    "\n",
    "# a) for loop\n",
    "for i in range(1,11):\n",
    "    multi = user_num *(i)\n",
    "    print(user_num, \"x\", i, \"=\", multi)"
   ]
  },
  {
   "cell_type": "code",
   "execution_count": 47,
   "id": "028657d8",
   "metadata": {},
   "outputs": [
    {
     "name": "stdout",
     "output_type": "stream",
     "text": [
      "Please enter a random number: 4\n",
      "4 x 1 = 4\n",
      "4 x 2 = 8\n",
      "4 x 3 = 12\n",
      "4 x 4 = 16\n",
      "4 x 5 = 20\n",
      "4 x 6 = 24\n",
      "4 x 7 = 28\n",
      "4 x 8 = 32\n",
      "4 x 9 = 36\n",
      "4 x 10 = 40\n"
     ]
    }
   ],
   "source": [
    "user_num = int(input(\"Please enter a random number: \"))\n",
    "\n",
    "# a) for loop\n",
    "begin = 1\n",
    "maxm = 10\n",
    "while begin <= maxm:\n",
    "    multip = user_num*(begin)\n",
    "    print(user_num, \"x\", begin, \"=\", multip)\n",
    "    begin += 1"
   ]
  },
  {
   "cell_type": "markdown",
   "id": "c9d14e0a",
   "metadata": {},
   "source": [
    "**Which loop structure do you think is better in this context, and why?**\n",
    "\n",
    "I think uinsg a for loop is better in this context because it's more \n",
    "straightforward and the code is simplier. "
   ]
  },
  {
   "cell_type": "markdown",
   "id": "b092e86a",
   "metadata": {},
   "source": [
    "---"
   ]
  },
  {
   "cell_type": "markdown",
   "id": "60c12069",
   "metadata": {},
   "source": [
    "**Think about writing a program for which the user must enter a positive number. If they don't, the program should prompt them again until they do.**\n",
    "\n",
    "**Would you use a for loop or a while loop to do this? Why?**\n",
    "\n",
    "I would use a while loop because the progam has clear conditions. While they don't enter a correct answer, the while loop will keep asking them to enter another number."
   ]
  }
 ],
 "metadata": {
  "kernelspec": {
   "display_name": "Python 3 (ipykernel)",
   "language": "python",
   "name": "python3"
  },
  "language_info": {
   "codemirror_mode": {
    "name": "ipython",
    "version": 3
   },
   "file_extension": ".py",
   "mimetype": "text/x-python",
   "name": "python",
   "nbconvert_exporter": "python",
   "pygments_lexer": "ipython3",
   "version": "3.11.4"
  }
 },
 "nbformat": 4,
 "nbformat_minor": 5
}
