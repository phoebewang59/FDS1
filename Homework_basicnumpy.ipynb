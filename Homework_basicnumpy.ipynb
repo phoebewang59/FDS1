{
 "cells": [
  {
   "cell_type": "markdown",
   "id": "93441db3",
   "metadata": {},
   "source": [
    "**1. Array Creation:**\n",
    "--"
   ]
  },
  {
   "cell_type": "code",
   "execution_count": 2,
   "id": "76ed0cde",
   "metadata": {},
   "outputs": [],
   "source": [
    "import numpy as np"
   ]
  },
  {
   "cell_type": "code",
   "execution_count": 3,
   "id": "2f9e219a",
   "metadata": {},
   "outputs": [
    {
     "name": "stdout",
     "output_type": "stream",
     "text": [
      "[0 1 2 3 4 5 6 7 8 9]\n"
     ]
    }
   ],
   "source": [
    "#a) create a 1D array containing numbers from 0 to 9\n",
    "\n",
    "arr = np.array([0, 1, 2, 3, 4, 5, 6, 7, 8, 9])\n",
    "print(arr)"
   ]
  },
  {
   "cell_type": "code",
   "execution_count": 4,
   "id": "ca03ec36",
   "metadata": {},
   "outputs": [
    {
     "name": "stdout",
     "output_type": "stream",
     "text": [
      "[[1 2 3]\n",
      " [4 5 6]\n",
      " [7 8 9]]\n"
     ]
    }
   ],
   "source": [
    "#b) create a 3x3 matrix with numbers from 1 to 9\n",
    "\n",
    "matrix = np.array([arr[1:4], arr[4:7], arr[7:]])\n",
    "print(matrix)"
   ]
  },
  {
   "cell_type": "code",
   "execution_count": 5,
   "id": "d7d11f18",
   "metadata": {},
   "outputs": [
    {
     "name": "stdout",
     "output_type": "stream",
     "text": [
      "[[96.69512874]\n",
      " [87.63113061]\n",
      " [75.91221317]\n",
      " [85.42706179]\n",
      " [85.32714459]\n",
      " [89.53924201]\n",
      " [80.59498907]\n",
      " [61.54617921]\n",
      " [57.32722764]\n",
      " [50.0135143 ]]\n"
     ]
    }
   ],
   "source": [
    "#c) generate a 1D array of 10 random integers between 50-100\n",
    "\n",
    "rand_num1 = np.random.uniform(50, 100, size = [10,1])\n",
    "print(rand_num1)"
   ]
  },
  {
   "cell_type": "code",
   "execution_count": 6,
   "id": "7a1c08eb",
   "metadata": {},
   "outputs": [
    {
     "name": "stdout",
     "output_type": "stream",
     "text": [
      "[[0.77562441 0.57476246 0.43089064 0.91948012]\n",
      " [0.93005778 0.93772704 0.89120995 0.37805591]\n",
      " [0.67431073 0.72109947 0.20121533 0.49362173]]\n"
     ]
    }
   ],
   "source": [
    "#d)create a 3x4 matrix of random floating-point numbers between 0 and 1\n",
    "\n",
    "rand_num2 = np.random.uniform(0, 1, size = [3,4])\n",
    "print(rand_num2)"
   ]
  },
  {
   "cell_type": "markdown",
   "id": "b666db56",
   "metadata": {},
   "source": [
    "**2. Array Indexing**\n",
    "--"
   ]
  },
  {
   "cell_type": "code",
   "execution_count": 7,
   "id": "5caa637c",
   "metadata": {},
   "outputs": [
    {
     "name": "stdout",
     "output_type": "stream",
     "text": [
      "[0 2 4 6 8]\n"
     ]
    }
   ],
   "source": [
    "#a) all even numbers from 1a array\n",
    "even = arr[::2]\n",
    "print(even)"
   ]
  },
  {
   "cell_type": "code",
   "execution_count": 8,
   "id": "0b773312",
   "metadata": {},
   "outputs": [
    {
     "name": "stdout",
     "output_type": "stream",
     "text": [
      "[4 5 6]\n"
     ]
    }
   ],
   "source": [
    "#b) second row of 1b matrix\n",
    "second_row = matrix[1]\n",
    "print(second_row)"
   ]
  },
  {
   "cell_type": "code",
   "execution_count": 9,
   "id": "3d1381db",
   "metadata": {},
   "outputs": [
    {
     "name": "stdout",
     "output_type": "stream",
     "text": [
      "8\n"
     ]
    }
   ],
   "source": [
    "#c) element at the third row and second column from 1b matrix\n",
    "element = matrix[2,1]\n",
    "print(element)"
   ]
  },
  {
   "cell_type": "code",
   "execution_count": 75,
   "id": "4d9baf27",
   "metadata": {},
   "outputs": [
    {
     "name": "stdout",
     "output_type": "stream",
     "text": [
      "[0.77562441 0.57476246 0.91948012 0.93005778 0.93772704 0.89120995\n",
      " 0.67431073 0.72109947]\n"
     ]
    }
   ],
   "source": [
    "#d) from 1d matrix, extract all elements greater than 0.5\n",
    "\n",
    "greater = np.where((rand_num2 > 0.5))\n",
    "print(rand_num2[greater])"
   ]
  },
  {
   "cell_type": "markdown",
   "id": "8e1e5290",
   "metadata": {},
   "source": [
    "**3. Basic Math Operations:**\n",
    "--"
   ]
  },
  {
   "cell_type": "code",
   "execution_count": 38,
   "id": "d7c20ce8",
   "metadata": {},
   "outputs": [],
   "source": [
    "#a) two arrays A and B of shape (4,4) with random int between 1-10\n",
    "#and compute sum and product\n",
    "\n",
    "array_A = np.random.uniform(1, 10, size = [4,4])\n",
    "array_B = np.random.uniform(1, 10, size = [4,4])"
   ]
  },
  {
   "cell_type": "code",
   "execution_count": 39,
   "id": "370101ea",
   "metadata": {},
   "outputs": [
    {
     "data": {
      "text/plain": [
       "array([[ 9.97724866, 12.956702  ,  8.70759432, 16.18961483],\n",
       "       [14.33298619,  9.19032439, 12.87394624, 10.38602564],\n",
       "       [18.23553543, 13.30749747, 15.27731526, 18.07303648],\n",
       "       [11.31749836,  3.59759601, 14.386025  ,  7.76802386]])"
      ]
     },
     "execution_count": 39,
     "metadata": {},
     "output_type": "execute_result"
    }
   ],
   "source": [
    "array_A + array_B"
   ]
  },
  {
   "cell_type": "code",
   "execution_count": 40,
   "id": "125787d0",
   "metadata": {},
   "outputs": [
    {
     "data": {
      "text/plain": [
       "array([[24.30185417, 40.30895348, 15.94719033, 65.34807256],\n",
       "       [50.64694812, 19.39862243, 36.93479264, 24.39513567],\n",
       "       [82.82690853, 42.01129714, 58.33536214, 81.64608021],\n",
       "       [22.92600286,  2.95764389, 50.06296648, 12.83990034]])"
      ]
     },
     "execution_count": 40,
     "metadata": {},
     "output_type": "execute_result"
    }
   ],
   "source": [
    "array_A * array_B"
   ]
  },
  {
   "cell_type": "code",
   "execution_count": 41,
   "id": "63b7bceb",
   "metadata": {},
   "outputs": [
    {
     "data": {
      "text/plain": [
       "array([ 0,  5, 10, 15, 20, 25, 30, 35, 40, 45])"
      ]
     },
     "execution_count": 41,
     "metadata": {},
     "output_type": "execute_result"
    }
   ],
   "source": [
    "#b) multiply 1D array created in 1a by 5\n",
    "arr * 5 "
   ]
  },
  {
   "cell_type": "code",
   "execution_count": 43,
   "id": "72fd4d0b",
   "metadata": {},
   "outputs": [
    {
     "data": {
      "text/plain": [
       "array([-4.5, -3.5, -2.5, -1.5, -0.5,  0.5,  1.5,  2.5,  3.5,  4.5])"
      ]
     },
     "execution_count": 43,
     "metadata": {},
     "output_type": "execute_result"
    }
   ],
   "source": [
    "#c) subtract the mean of 1D array in 1a from each of its elements\n",
    "mean = np.mean(arr)\n",
    "\n",
    "arr - mean"
   ]
  },
  {
   "cell_type": "markdown",
   "id": "e1f1e8d7",
   "metadata": {},
   "source": [
    "**4. Basic Statistical Calculations:**\n",
    "--"
   ]
  },
  {
   "cell_type": "code",
   "execution_count": 45,
   "id": "3f98bb08",
   "metadata": {},
   "outputs": [
    {
     "name": "stdout",
     "output_type": "stream",
     "text": [
      "The mean is: 4.5\n",
      "The median is 4.5\n",
      "The standard deviation is 2.8722813232690143\n"
     ]
    }
   ],
   "source": [
    "#a) compute mean, median, and standard deviation of array from 1a\n",
    "mean = np.mean(arr)\n",
    "median = np.median(arr)\n",
    "sd = np.std(arr)\n",
    "\n",
    "print('The mean is:', mean)\n",
    "print('The median is', median)\n",
    "print('The standard deviation is', sd)"
   ]
  },
  {
   "cell_type": "code",
   "execution_count": 46,
   "id": "41e6445b",
   "metadata": {},
   "outputs": [
    {
     "name": "stdout",
     "output_type": "stream",
     "text": [
      "The minimum is: 0.20121532760836092\n",
      "The maximum is 0.9377270387781438\n"
     ]
    }
   ],
   "source": [
    "#b) find the min and max values of 1D array in 1d\n",
    "minimum = np.min(rand_num2)\n",
    "maximum = np.max(rand_num2)\n",
    "\n",
    "print('The minimum is:', minimum)\n",
    "print('The maximum is', maximum)"
   ]
  },
  {
   "cell_type": "code",
   "execution_count": 71,
   "id": "c03f510c",
   "metadata": {},
   "outputs": [],
   "source": [
    "#c) find the position of the min and max values of 1D array in 1c\n",
    "min_1 = np.min(rand_num1)\n",
    "max_1 = np.max(rand_num1)"
   ]
  },
  {
   "cell_type": "code",
   "execution_count": 79,
   "id": "02222b4a",
   "metadata": {},
   "outputs": [
    {
     "name": "stdout",
     "output_type": "stream",
     "text": [
      "The index of the minimum is: (array([9]), array([0]))\n"
     ]
    }
   ],
   "source": [
    "index_min = np.where(rand_num1 == min_1) #minimum value\n",
    "print('The index of the minimum is:', index_min)"
   ]
  },
  {
   "cell_type": "code",
   "execution_count": 81,
   "id": "8ae9dcfc",
   "metadata": {},
   "outputs": [
    {
     "name": "stdout",
     "output_type": "stream",
     "text": [
      "The index of the maxminum is: (array([0]), array([0]))\n"
     ]
    }
   ],
   "source": [
    "index_max = np.where(rand_num1 == max_1) #maximum value\n",
    "print('The index of the maxminum is:', index_max)"
   ]
  }
 ],
 "metadata": {
  "kernelspec": {
   "display_name": "Python 3 (ipykernel)",
   "language": "python",
   "name": "python3"
  },
  "language_info": {
   "codemirror_mode": {
    "name": "ipython",
    "version": 3
   },
   "file_extension": ".py",
   "mimetype": "text/x-python",
   "name": "python",
   "nbconvert_exporter": "python",
   "pygments_lexer": "ipython3",
   "version": "3.11.4"
  }
 },
 "nbformat": 4,
 "nbformat_minor": 5
}
